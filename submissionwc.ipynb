{
 "cells": [
  {
   "cell_type": "code",
   "execution_count": 1,
   "id": "cf150101",
   "metadata": {
    "_cell_guid": "b1076dfc-b9ad-4769-8c92-a6c4dae69d19",
    "_uuid": "8f2839f25d086af736a60e9eeb907d3b93b6e0e5",
    "execution": {
     "iopub.execute_input": "2023-10-28T11:37:12.740696Z",
     "iopub.status.busy": "2023-10-28T11:37:12.740178Z",
     "iopub.status.idle": "2023-10-28T11:37:13.090616Z",
     "shell.execute_reply": "2023-10-28T11:37:13.089531Z"
    },
    "papermill": {
     "duration": 0.373442,
     "end_time": "2023-10-28T11:37:13.093625",
     "exception": false,
     "start_time": "2023-10-28T11:37:12.720183",
     "status": "completed"
    },
    "tags": []
   },
   "outputs": [
    {
     "name": "stdout",
     "output_type": "stream",
     "text": [
      "/kaggle/input/epoch-23/sample_submission.csv\n",
      "/kaggle/input/epoch-23/train.csv\n",
      "/kaggle/input/epoch-23/test.csv\n"
     ]
    }
   ],
   "source": [
    "# This Python 3 environment comes with many helpful analytics libraries installed\n",
    "# It is defined by the kaggle/python Docker image: https://github.com/kaggle/docker-python\n",
    "# For example, here's several helpful packages to load\n",
    "\n",
    "import numpy as np # linear algebra\n",
    "import pandas as pd # data processing, CSV file I/O (e.g. pd.read_csv)\n",
    "\n",
    "# Input data files are available in the read-only \"../input/\" directory\n",
    "# For example, running this (by clicking run or pressing Shift+Enter) will list all files under the input directory\n",
    "\n",
    "import os\n",
    "for dirname, _, filenames in os.walk('/kaggle/input'):\n",
    "    for filename in filenames:\n",
    "        print(os.path.join(dirname, filename))\n",
    "\n",
    "# You can write up to 20GB to the current directory (/kaggle/working/) that gets preserved as output when you create a version using \"Save & Run All\" \n",
    "# You can also write temporary files to /kaggle/temp/, but they won't be saved outside of the current session"
   ]
  },
  {
   "cell_type": "markdown",
   "id": "5b7f70fc",
   "metadata": {
    "papermill": {
     "duration": 0.01716,
     "end_time": "2023-10-28T11:37:13.126441",
     "exception": false,
     "start_time": "2023-10-28T11:37:13.109281",
     "status": "completed"
    },
    "tags": []
   },
   "source": [
    "# Importing Libraries"
   ]
  },
  {
   "cell_type": "code",
   "execution_count": 2,
   "id": "e510288c",
   "metadata": {
    "execution": {
     "iopub.execute_input": "2023-10-28T11:37:13.163099Z",
     "iopub.status.busy": "2023-10-28T11:37:13.162530Z",
     "iopub.status.idle": "2023-10-28T11:37:14.962437Z",
     "shell.execute_reply": "2023-10-28T11:37:14.961511Z"
    },
    "papermill": {
     "duration": 1.822084,
     "end_time": "2023-10-28T11:37:14.965306",
     "exception": false,
     "start_time": "2023-10-28T11:37:13.143222",
     "status": "completed"
    },
    "tags": []
   },
   "outputs": [],
   "source": [
    "#importing libraries\n",
    "import pandas as pd\n",
    "import numpy as np\n",
    "import matplotlib.pyplot as plt\n",
    "%matplotlib inline\n",
    "import seaborn as sns"
   ]
  },
  {
   "cell_type": "markdown",
   "id": "b6a4726e",
   "metadata": {
    "papermill": {
     "duration": 0.01546,
     "end_time": "2023-10-28T11:37:14.997757",
     "exception": false,
     "start_time": "2023-10-28T11:37:14.982297",
     "status": "completed"
    },
    "tags": []
   },
   "source": [
    "# Loading the Dataset"
   ]
  },
  {
   "cell_type": "code",
   "execution_count": 3,
   "id": "f2e1a8f7",
   "metadata": {
    "execution": {
     "iopub.execute_input": "2023-10-28T11:37:15.030672Z",
     "iopub.status.busy": "2023-10-28T11:37:15.030002Z",
     "iopub.status.idle": "2023-10-28T11:37:23.989438Z",
     "shell.execute_reply": "2023-10-28T11:37:23.987417Z"
    },
    "papermill": {
     "duration": 8.979543,
     "end_time": "2023-10-28T11:37:23.992743",
     "exception": false,
     "start_time": "2023-10-28T11:37:15.013200",
     "status": "completed"
    },
    "tags": []
   },
   "outputs": [
    {
     "data": {
      "text/html": [
       "<div>\n",
       "<style scoped>\n",
       "    .dataframe tbody tr th:only-of-type {\n",
       "        vertical-align: middle;\n",
       "    }\n",
       "\n",
       "    .dataframe tbody tr th {\n",
       "        vertical-align: top;\n",
       "    }\n",
       "\n",
       "    .dataframe thead th {\n",
       "        text-align: right;\n",
       "    }\n",
       "</style>\n",
       "<table border=\"1\" class=\"dataframe\">\n",
       "  <thead>\n",
       "    <tr style=\"text-align: right;\">\n",
       "      <th></th>\n",
       "      <th>restaurant_id</th>\n",
       "      <th>online_order</th>\n",
       "      <th>reservations</th>\n",
       "      <th>rating</th>\n",
       "      <th>votes</th>\n",
       "      <th>location</th>\n",
       "      <th>rest_type</th>\n",
       "      <th>cuisines</th>\n",
       "      <th>reviews_list</th>\n",
       "      <th>menu_item</th>\n",
       "      <th>type</th>\n",
       "      <th>locality</th>\n",
       "      <th>cost</th>\n",
       "    </tr>\n",
       "  </thead>\n",
       "  <tbody>\n",
       "    <tr>\n",
       "      <th>0</th>\n",
       "      <td>6d99d335-6ef0-44e8-affa-8e522bbc6a12</td>\n",
       "      <td>No</td>\n",
       "      <td>Not available</td>\n",
       "      <td>4.6</td>\n",
       "      <td>979</td>\n",
       "      <td>MG Road</td>\n",
       "      <td>Fine Dining</td>\n",
       "      <td>Thai</td>\n",
       "      <td>[('Rated 5.0', \"RATED\\n  When lots of options ...</td>\n",
       "      <td>[]</td>\n",
       "      <td>Buffet</td>\n",
       "      <td>Indiranagar</td>\n",
       "      <td>3.0</td>\n",
       "    </tr>\n",
       "    <tr>\n",
       "      <th>1</th>\n",
       "      <td>0813b101-313a-45fe-9c4b-1ee2c6fdb33d</td>\n",
       "      <td>No</td>\n",
       "      <td>Available</td>\n",
       "      <td>4.2</td>\n",
       "      <td>3116</td>\n",
       "      <td>Lavelle Road</td>\n",
       "      <td>Lounge</td>\n",
       "      <td>Continental</td>\n",
       "      <td>[('Rated 4.0', 'RATED\\n  Had been here on a or...</td>\n",
       "      <td>[]</td>\n",
       "      <td>Dine-out</td>\n",
       "      <td>Brigade Road</td>\n",
       "      <td>2.5</td>\n",
       "    </tr>\n",
       "    <tr>\n",
       "      <th>2</th>\n",
       "      <td>315a10d1-f3b8-4484-873d-40765594cf14</td>\n",
       "      <td>Yes</td>\n",
       "      <td>Available</td>\n",
       "      <td>4.5</td>\n",
       "      <td>418</td>\n",
       "      <td>Kammanahalli</td>\n",
       "      <td>Casual Dining</td>\n",
       "      <td>Asian, European, Italian, Korean, Malaysian, T...</td>\n",
       "      <td>[('Rated 4.0', 'RATED\\n  ValentineÃ\\x83Ã\\x83...</td>\n",
       "      <td>['Bangkok Style Raw Papaya Salad with Green Ap...</td>\n",
       "      <td>Dine-out</td>\n",
       "      <td>Kalyan Nagar</td>\n",
       "      <td>1.2</td>\n",
       "    </tr>\n",
       "    <tr>\n",
       "      <th>3</th>\n",
       "      <td>c451416e-dd60-44b1-a9f0-dbc6cb456637</td>\n",
       "      <td>Yes</td>\n",
       "      <td>Not available</td>\n",
       "      <td>3.9</td>\n",
       "      <td>241</td>\n",
       "      <td>Koramangala 4th Block</td>\n",
       "      <td>Quick Bites</td>\n",
       "      <td>Pizza, Italian</td>\n",
       "      <td>[('Rated 4.0', \"RATED\\n  Simple food, no fanci...</td>\n",
       "      <td>['P-68 Masala Cheese Garlic Bread', 'P-65 Nach...</td>\n",
       "      <td>Dine-out</td>\n",
       "      <td>Koramangala 4th Block</td>\n",
       "      <td>600.0</td>\n",
       "    </tr>\n",
       "    <tr>\n",
       "      <th>4</th>\n",
       "      <td>11c34543-2491-4494-8224-3596308bc169</td>\n",
       "      <td>Yes</td>\n",
       "      <td>Not available</td>\n",
       "      <td>4.3</td>\n",
       "      <td>658</td>\n",
       "      <td>Cunningham Road</td>\n",
       "      <td>Cafe, Dessert Parlor</td>\n",
       "      <td>Cafe, Desserts</td>\n",
       "      <td>[('Rated 4.0', 'RATED\\n  Nice and calm place.\\...</td>\n",
       "      <td>['Veggie Supreme Pizza', 'Pesto Pasta', 'Newyo...</td>\n",
       "      <td>Cafes</td>\n",
       "      <td>Residency Road</td>\n",
       "      <td>750.0</td>\n",
       "    </tr>\n",
       "  </tbody>\n",
       "</table>\n",
       "</div>"
      ],
      "text/plain": [
       "                          restaurant_id online_order   reservations  rating  \\\n",
       "0  6d99d335-6ef0-44e8-affa-8e522bbc6a12           No  Not available     4.6   \n",
       "1  0813b101-313a-45fe-9c4b-1ee2c6fdb33d           No      Available     4.2   \n",
       "2  315a10d1-f3b8-4484-873d-40765594cf14          Yes      Available     4.5   \n",
       "3  c451416e-dd60-44b1-a9f0-dbc6cb456637          Yes  Not available     3.9   \n",
       "4  11c34543-2491-4494-8224-3596308bc169          Yes  Not available     4.3   \n",
       "\n",
       "   votes               location             rest_type  \\\n",
       "0    979                MG Road           Fine Dining   \n",
       "1   3116           Lavelle Road                Lounge   \n",
       "2    418           Kammanahalli         Casual Dining   \n",
       "3    241  Koramangala 4th Block           Quick Bites   \n",
       "4    658        Cunningham Road  Cafe, Dessert Parlor   \n",
       "\n",
       "                                            cuisines  \\\n",
       "0                                               Thai   \n",
       "1                                        Continental   \n",
       "2  Asian, European, Italian, Korean, Malaysian, T...   \n",
       "3                                     Pizza, Italian   \n",
       "4                                     Cafe, Desserts   \n",
       "\n",
       "                                        reviews_list  \\\n",
       "0  [('Rated 5.0', \"RATED\\n  When lots of options ...   \n",
       "1  [('Rated 4.0', 'RATED\\n  Had been here on a or...   \n",
       "2  [('Rated 4.0', 'RATED\\n  ValentineÃ\\x83Ã\\x83...   \n",
       "3  [('Rated 4.0', \"RATED\\n  Simple food, no fanci...   \n",
       "4  [('Rated 4.0', 'RATED\\n  Nice and calm place.\\...   \n",
       "\n",
       "                                           menu_item      type  \\\n",
       "0                                                 []    Buffet   \n",
       "1                                                 []  Dine-out   \n",
       "2  ['Bangkok Style Raw Papaya Salad with Green Ap...  Dine-out   \n",
       "3  ['P-68 Masala Cheese Garlic Bread', 'P-65 Nach...  Dine-out   \n",
       "4  ['Veggie Supreme Pizza', 'Pesto Pasta', 'Newyo...     Cafes   \n",
       "\n",
       "                locality   cost  \n",
       "0            Indiranagar    3.0  \n",
       "1           Brigade Road    2.5  \n",
       "2           Kalyan Nagar    1.2  \n",
       "3  Koramangala 4th Block  600.0  \n",
       "4         Residency Road  750.0  "
      ]
     },
     "execution_count": 3,
     "metadata": {},
     "output_type": "execute_result"
    }
   ],
   "source": [
    "df = pd.read_csv('/kaggle/input/epoch-23/train.csv')\n",
    "df.head()"
   ]
  },
  {
   "cell_type": "markdown",
   "id": "64664656",
   "metadata": {
    "papermill": {
     "duration": 0.017355,
     "end_time": "2023-10-28T11:37:24.027311",
     "exception": false,
     "start_time": "2023-10-28T11:37:24.009956",
     "status": "completed"
    },
    "tags": []
   },
   "source": [
    "# Exploratory Data Analysis and Feature Engineering"
   ]
  },
  {
   "cell_type": "code",
   "execution_count": 4,
   "id": "0962c10e",
   "metadata": {
    "execution": {
     "iopub.execute_input": "2023-10-28T11:37:24.062888Z",
     "iopub.status.busy": "2023-10-28T11:37:24.062472Z",
     "iopub.status.idle": "2023-10-28T11:37:24.071967Z",
     "shell.execute_reply": "2023-10-28T11:37:24.069890Z"
    },
    "papermill": {
     "duration": 0.031121,
     "end_time": "2023-10-28T11:37:24.075173",
     "exception": false,
     "start_time": "2023-10-28T11:37:24.044052",
     "status": "completed"
    },
    "tags": []
   },
   "outputs": [
    {
     "data": {
      "text/plain": [
       "(39516, 13)"
      ]
     },
     "execution_count": 4,
     "metadata": {},
     "output_type": "execute_result"
    }
   ],
   "source": [
    "df.shape"
   ]
  },
  {
   "cell_type": "code",
   "execution_count": 5,
   "id": "d0a55d13",
   "metadata": {
    "execution": {
     "iopub.execute_input": "2023-10-28T11:37:24.112319Z",
     "iopub.status.busy": "2023-10-28T11:37:24.111927Z",
     "iopub.status.idle": "2023-10-28T11:37:24.148891Z",
     "shell.execute_reply": "2023-10-28T11:37:24.147223Z"
    },
    "papermill": {
     "duration": 0.05785,
     "end_time": "2023-10-28T11:37:24.152237",
     "exception": false,
     "start_time": "2023-10-28T11:37:24.094387",
     "status": "completed"
    },
    "tags": []
   },
   "outputs": [
    {
     "data": {
      "text/html": [
       "<div>\n",
       "<style scoped>\n",
       "    .dataframe tbody tr th:only-of-type {\n",
       "        vertical-align: middle;\n",
       "    }\n",
       "\n",
       "    .dataframe tbody tr th {\n",
       "        vertical-align: top;\n",
       "    }\n",
       "\n",
       "    .dataframe thead th {\n",
       "        text-align: right;\n",
       "    }\n",
       "</style>\n",
       "<table border=\"1\" class=\"dataframe\">\n",
       "  <thead>\n",
       "    <tr style=\"text-align: right;\">\n",
       "      <th></th>\n",
       "      <th>rating</th>\n",
       "      <th>votes</th>\n",
       "      <th>cost</th>\n",
       "    </tr>\n",
       "  </thead>\n",
       "  <tbody>\n",
       "    <tr>\n",
       "      <th>count</th>\n",
       "      <td>39516.000000</td>\n",
       "      <td>39516.000000</td>\n",
       "      <td>39516.000000</td>\n",
       "    </tr>\n",
       "    <tr>\n",
       "      <th>mean</th>\n",
       "      <td>3.731719</td>\n",
       "      <td>298.037959</td>\n",
       "      <td>361.157549</td>\n",
       "    </tr>\n",
       "    <tr>\n",
       "      <th>std</th>\n",
       "      <td>0.411471</td>\n",
       "      <td>825.332006</td>\n",
       "      <td>230.305787</td>\n",
       "    </tr>\n",
       "    <tr>\n",
       "      <th>min</th>\n",
       "      <td>1.800000</td>\n",
       "      <td>0.000000</td>\n",
       "      <td>1.000000</td>\n",
       "    </tr>\n",
       "    <tr>\n",
       "      <th>25%</th>\n",
       "      <td>3.500000</td>\n",
       "      <td>9.000000</td>\n",
       "      <td>200.000000</td>\n",
       "    </tr>\n",
       "    <tr>\n",
       "      <th>50%</th>\n",
       "      <td>3.800000</td>\n",
       "      <td>47.000000</td>\n",
       "      <td>350.000000</td>\n",
       "    </tr>\n",
       "    <tr>\n",
       "      <th>75%</th>\n",
       "      <td>4.000000</td>\n",
       "      <td>212.000000</td>\n",
       "      <td>500.000000</td>\n",
       "    </tr>\n",
       "    <tr>\n",
       "      <th>max</th>\n",
       "      <td>4.900000</td>\n",
       "      <td>16832.000000</td>\n",
       "      <td>950.000000</td>\n",
       "    </tr>\n",
       "  </tbody>\n",
       "</table>\n",
       "</div>"
      ],
      "text/plain": [
       "             rating         votes          cost\n",
       "count  39516.000000  39516.000000  39516.000000\n",
       "mean       3.731719    298.037959    361.157549\n",
       "std        0.411471    825.332006    230.305787\n",
       "min        1.800000      0.000000      1.000000\n",
       "25%        3.500000      9.000000    200.000000\n",
       "50%        3.800000     47.000000    350.000000\n",
       "75%        4.000000    212.000000    500.000000\n",
       "max        4.900000  16832.000000    950.000000"
      ]
     },
     "execution_count": 5,
     "metadata": {},
     "output_type": "execute_result"
    }
   ],
   "source": [
    "df.describe()"
   ]
  },
  {
   "cell_type": "code",
   "execution_count": 6,
   "id": "65456e6a",
   "metadata": {
    "execution": {
     "iopub.execute_input": "2023-10-28T11:37:24.285361Z",
     "iopub.status.busy": "2023-10-28T11:37:24.284881Z",
     "iopub.status.idle": "2023-10-28T11:37:24.338164Z",
     "shell.execute_reply": "2023-10-28T11:37:24.336322Z"
    },
    "papermill": {
     "duration": 0.171762,
     "end_time": "2023-10-28T11:37:24.341164",
     "exception": false,
     "start_time": "2023-10-28T11:37:24.169402",
     "status": "completed"
    },
    "tags": []
   },
   "outputs": [
    {
     "name": "stdout",
     "output_type": "stream",
     "text": [
      "<class 'pandas.core.frame.DataFrame'>\n",
      "RangeIndex: 39516 entries, 0 to 39515\n",
      "Data columns (total 13 columns):\n",
      " #   Column         Non-Null Count  Dtype  \n",
      "---  ------         --------------  -----  \n",
      " 0   restaurant_id  39516 non-null  object \n",
      " 1   online_order   39516 non-null  object \n",
      " 2   reservations   39516 non-null  object \n",
      " 3   rating         39516 non-null  float64\n",
      " 4   votes          39516 non-null  int64  \n",
      " 5   location       39516 non-null  object \n",
      " 6   rest_type      39516 non-null  object \n",
      " 7   cuisines       39516 non-null  object \n",
      " 8   reviews_list   39516 non-null  object \n",
      " 9   menu_item      39516 non-null  object \n",
      " 10  type           39516 non-null  object \n",
      " 11  locality       39516 non-null  object \n",
      " 12  cost           39516 non-null  float64\n",
      "dtypes: float64(2), int64(1), object(10)\n",
      "memory usage: 3.9+ MB\n"
     ]
    }
   ],
   "source": [
    "df.info()"
   ]
  },
  {
   "cell_type": "code",
   "execution_count": 7,
   "id": "efddb073",
   "metadata": {
    "execution": {
     "iopub.execute_input": "2023-10-28T11:37:24.382607Z",
     "iopub.status.busy": "2023-10-28T11:37:24.382128Z",
     "iopub.status.idle": "2023-10-28T11:37:24.411288Z",
     "shell.execute_reply": "2023-10-28T11:37:24.409156Z"
    },
    "papermill": {
     "duration": 0.055393,
     "end_time": "2023-10-28T11:37:24.415387",
     "exception": false,
     "start_time": "2023-10-28T11:37:24.359994",
     "status": "completed"
    },
    "tags": []
   },
   "outputs": [
    {
     "data": {
      "text/plain": [
       "restaurant_id    0\n",
       "online_order     0\n",
       "reservations     0\n",
       "rating           0\n",
       "votes            0\n",
       "location         0\n",
       "rest_type        0\n",
       "cuisines         0\n",
       "reviews_list     0\n",
       "menu_item        0\n",
       "type             0\n",
       "locality         0\n",
       "cost             0\n",
       "dtype: int64"
      ]
     },
     "execution_count": 7,
     "metadata": {},
     "output_type": "execute_result"
    }
   ],
   "source": [
    "df.isnull().sum()"
   ]
  },
  {
   "cell_type": "markdown",
   "id": "fb9d7318",
   "metadata": {
    "papermill": {
     "duration": 0.01629,
     "end_time": "2023-10-28T11:37:24.448743",
     "exception": false,
     "start_time": "2023-10-28T11:37:24.432453",
     "status": "completed"
    },
    "tags": []
   },
   "source": [
    "Hence, there are no missing values in the dataset"
   ]
  },
  {
   "cell_type": "markdown",
   "id": "4195b12e",
   "metadata": {
    "papermill": {
     "duration": 0.016683,
     "end_time": "2023-10-28T11:37:24.482126",
     "exception": false,
     "start_time": "2023-10-28T11:37:24.465443",
     "status": "completed"
    },
    "tags": []
   },
   "source": [
    "### Label encoding of online_order and reservations"
   ]
  },
  {
   "cell_type": "code",
   "execution_count": 8,
   "id": "5bb50b00",
   "metadata": {
    "execution": {
     "iopub.execute_input": "2023-10-28T11:37:24.518879Z",
     "iopub.status.busy": "2023-10-28T11:37:24.518426Z",
     "iopub.status.idle": "2023-10-28T11:37:24.728893Z",
     "shell.execute_reply": "2023-10-28T11:37:24.726503Z"
    },
    "papermill": {
     "duration": 0.232606,
     "end_time": "2023-10-28T11:37:24.731779",
     "exception": false,
     "start_time": "2023-10-28T11:37:24.499173",
     "status": "completed"
    },
    "tags": []
   },
   "outputs": [],
   "source": [
    "from sklearn.preprocessing import LabelEncoder\n",
    "lbenc = LabelEncoder()"
   ]
  },
  {
   "cell_type": "code",
   "execution_count": 9,
   "id": "dc8dbcb8",
   "metadata": {
    "execution": {
     "iopub.execute_input": "2023-10-28T11:37:24.767578Z",
     "iopub.status.busy": "2023-10-28T11:37:24.767152Z",
     "iopub.status.idle": "2023-10-28T11:37:24.789046Z",
     "shell.execute_reply": "2023-10-28T11:37:24.787155Z"
    },
    "papermill": {
     "duration": 0.043287,
     "end_time": "2023-10-28T11:37:24.792207",
     "exception": false,
     "start_time": "2023-10-28T11:37:24.748920",
     "status": "completed"
    },
    "tags": []
   },
   "outputs": [
    {
     "data": {
      "text/plain": [
       "0        0\n",
       "1        0\n",
       "2        1\n",
       "3        1\n",
       "4        1\n",
       "        ..\n",
       "39511    0\n",
       "39512    0\n",
       "39513    0\n",
       "39514    0\n",
       "39515    0\n",
       "Name: online_order_encoded, Length: 39516, dtype: int64"
      ]
     },
     "execution_count": 9,
     "metadata": {},
     "output_type": "execute_result"
    }
   ],
   "source": [
    "df['online_order_encoded']=lbenc.fit_transform(df['online_order'])\n",
    "\n",
    "df['online_order_encoded']"
   ]
  },
  {
   "cell_type": "code",
   "execution_count": 10,
   "id": "64ce59a1",
   "metadata": {
    "execution": {
     "iopub.execute_input": "2023-10-28T11:37:24.829452Z",
     "iopub.status.busy": "2023-10-28T11:37:24.828972Z",
     "iopub.status.idle": "2023-10-28T11:37:24.841560Z",
     "shell.execute_reply": "2023-10-28T11:37:24.839113Z"
    },
    "papermill": {
     "duration": 0.035123,
     "end_time": "2023-10-28T11:37:24.844756",
     "exception": false,
     "start_time": "2023-10-28T11:37:24.809633",
     "status": "completed"
    },
    "tags": []
   },
   "outputs": [],
   "source": [
    "# Define custom labels and create a mapping dictionary\n",
    "label_mapping = {'Not available': 0, 'Available': 1}\n",
    "\n",
    "# Apply label encoding using map\n",
    "df['reservations_encoded'] = df['reservations'].map(label_mapping)"
   ]
  },
  {
   "cell_type": "code",
   "execution_count": 11,
   "id": "4921c0ae",
   "metadata": {
    "execution": {
     "iopub.execute_input": "2023-10-28T11:37:24.883948Z",
     "iopub.status.busy": "2023-10-28T11:37:24.883487Z",
     "iopub.status.idle": "2023-10-28T11:37:24.893822Z",
     "shell.execute_reply": "2023-10-28T11:37:24.892254Z"
    },
    "papermill": {
     "duration": 0.033673,
     "end_time": "2023-10-28T11:37:24.897087",
     "exception": false,
     "start_time": "2023-10-28T11:37:24.863414",
     "status": "completed"
    },
    "tags": []
   },
   "outputs": [
    {
     "data": {
      "text/plain": [
       "0        0\n",
       "1        1\n",
       "2        1\n",
       "3        0\n",
       "4        0\n",
       "        ..\n",
       "39511    0\n",
       "39512    0\n",
       "39513    0\n",
       "39514    0\n",
       "39515    0\n",
       "Name: reservations_encoded, Length: 39516, dtype: int64"
      ]
     },
     "execution_count": 11,
     "metadata": {},
     "output_type": "execute_result"
    }
   ],
   "source": [
    "df['reservations_encoded']"
   ]
  },
  {
   "cell_type": "markdown",
   "id": "c39d332f",
   "metadata": {
    "papermill": {
     "duration": 0.018354,
     "end_time": "2023-10-28T11:37:24.933567",
     "exception": false,
     "start_time": "2023-10-28T11:37:24.915213",
     "status": "completed"
    },
    "tags": []
   },
   "source": [
    "### Label encoding of locality"
   ]
  },
  {
   "cell_type": "code",
   "execution_count": 12,
   "id": "b837a27e",
   "metadata": {
    "execution": {
     "iopub.execute_input": "2023-10-28T11:37:24.971572Z",
     "iopub.status.busy": "2023-10-28T11:37:24.971103Z",
     "iopub.status.idle": "2023-10-28T11:37:24.975921Z",
     "shell.execute_reply": "2023-10-28T11:37:24.974908Z"
    },
    "papermill": {
     "duration": 0.026306,
     "end_time": "2023-10-28T11:37:24.978422",
     "exception": false,
     "start_time": "2023-10-28T11:37:24.952116",
     "status": "completed"
    },
    "tags": []
   },
   "outputs": [],
   "source": [
    "labelencode_x=LabelEncoder()"
   ]
  },
  {
   "cell_type": "code",
   "execution_count": 13,
   "id": "dccd6875",
   "metadata": {
    "execution": {
     "iopub.execute_input": "2023-10-28T11:37:25.016054Z",
     "iopub.status.busy": "2023-10-28T11:37:25.015222Z",
     "iopub.status.idle": "2023-10-28T11:37:25.037391Z",
     "shell.execute_reply": "2023-10-28T11:37:25.035056Z"
    },
    "papermill": {
     "duration": 0.045054,
     "end_time": "2023-10-28T11:37:25.040758",
     "exception": false,
     "start_time": "2023-10-28T11:37:24.995704",
     "status": "completed"
    },
    "tags": []
   },
   "outputs": [
    {
     "data": {
      "text/plain": [
       "<bound method Series.unique of 0        11\n",
       "1         5\n",
       "2        14\n",
       "3        16\n",
       "4        27\n",
       "         ..\n",
       "39511    12\n",
       "39512     0\n",
       "39513    23\n",
       "39514    23\n",
       "39515    22\n",
       "Name: locality_encoded, Length: 39516, dtype: int64>"
      ]
     },
     "execution_count": 13,
     "metadata": {},
     "output_type": "execute_result"
    }
   ],
   "source": [
    "df['locality_encoded']=labelencode_x.fit_transform(df['locality'])\n",
    "\n",
    "df['locality_encoded'].unique"
   ]
  },
  {
   "cell_type": "code",
   "execution_count": 14,
   "id": "1395e58c",
   "metadata": {
    "execution": {
     "iopub.execute_input": "2023-10-28T11:37:25.081476Z",
     "iopub.status.busy": "2023-10-28T11:37:25.081046Z",
     "iopub.status.idle": "2023-10-28T11:37:25.100993Z",
     "shell.execute_reply": "2023-10-28T11:37:25.098695Z"
    },
    "papermill": {
     "duration": 0.044482,
     "end_time": "2023-10-28T11:37:25.104312",
     "exception": false,
     "start_time": "2023-10-28T11:37:25.059830",
     "status": "completed"
    },
    "tags": []
   },
   "outputs": [
    {
     "data": {
      "text/plain": [
       "<bound method Series.unique of 0        0\n",
       "1        4\n",
       "2        4\n",
       "3        4\n",
       "4        1\n",
       "        ..\n",
       "39511    4\n",
       "39512    3\n",
       "39513    4\n",
       "39514    2\n",
       "39515    4\n",
       "Name: type_encoded, Length: 39516, dtype: int64>"
      ]
     },
     "execution_count": 14,
     "metadata": {},
     "output_type": "execute_result"
    }
   ],
   "source": [
    "df['type_encoded']=labelencode_x.fit_transform(df['type'])\n",
    "\n",
    "df['type_encoded'].unique"
   ]
  },
  {
   "cell_type": "markdown",
   "id": "a5942d56",
   "metadata": {
    "papermill": {
     "duration": 0.018258,
     "end_time": "2023-10-28T11:37:25.141817",
     "exception": false,
     "start_time": "2023-10-28T11:37:25.123559",
     "status": "completed"
    },
    "tags": []
   },
   "source": [
    "### Encoding Cuisines"
   ]
  },
  {
   "cell_type": "code",
   "execution_count": 15,
   "id": "31168fcb",
   "metadata": {
    "execution": {
     "iopub.execute_input": "2023-10-28T11:37:25.178640Z",
     "iopub.status.busy": "2023-10-28T11:37:25.178192Z",
     "iopub.status.idle": "2023-10-28T11:37:25.211401Z",
     "shell.execute_reply": "2023-10-28T11:37:25.208918Z"
    },
    "papermill": {
     "duration": 0.055783,
     "end_time": "2023-10-28T11:37:25.214837",
     "exception": false,
     "start_time": "2023-10-28T11:37:25.159054",
     "status": "completed"
    },
    "tags": []
   },
   "outputs": [],
   "source": [
    "# getting the unique cuisines present in the dataset.\n",
    "unique_cuisines = set()\n",
    "for cuisines_list in df['cuisines']:\n",
    "    unique_cuisines.update(cuisines_list)\n",
    "\n",
    "# Now unique_cuisines contains all unique cuisine types"
   ]
  },
  {
   "cell_type": "code",
   "execution_count": 16,
   "id": "d3d53d88",
   "metadata": {
    "execution": {
     "iopub.execute_input": "2023-10-28T11:37:25.255343Z",
     "iopub.status.busy": "2023-10-28T11:37:25.254835Z",
     "iopub.status.idle": "2023-10-28T11:37:25.260692Z",
     "shell.execute_reply": "2023-10-28T11:37:25.259753Z"
    },
    "papermill": {
     "duration": 0.028356,
     "end_time": "2023-10-28T11:37:25.262591",
     "exception": false,
     "start_time": "2023-10-28T11:37:25.234235",
     "status": "completed"
    },
    "tags": []
   },
   "outputs": [],
   "source": [
    "# Assign a unique code to each cuisine. You can use a dictionary to map cuisines to codes.\n",
    "cuisine_codes = {cuisine: code for code, cuisine in enumerate(unique_cuisines)}"
   ]
  },
  {
   "cell_type": "code",
   "execution_count": 17,
   "id": "f26e463f",
   "metadata": {
    "execution": {
     "iopub.execute_input": "2023-10-28T11:37:25.304329Z",
     "iopub.status.busy": "2023-10-28T11:37:25.302047Z",
     "iopub.status.idle": "2023-10-28T11:37:25.413744Z",
     "shell.execute_reply": "2023-10-28T11:37:25.412213Z"
    },
    "papermill": {
     "duration": 0.135199,
     "end_time": "2023-10-28T11:37:25.417031",
     "exception": false,
     "start_time": "2023-10-28T11:37:25.281832",
     "status": "completed"
    },
    "tags": []
   },
   "outputs": [],
   "source": [
    "df['cuisine_codes'] = df['cuisines'].apply(lambda x: [cuisine_codes[cuisine] for cuisine in x])"
   ]
  },
  {
   "cell_type": "code",
   "execution_count": 18,
   "id": "821f3002",
   "metadata": {
    "execution": {
     "iopub.execute_input": "2023-10-28T11:37:25.455903Z",
     "iopub.status.busy": "2023-10-28T11:37:25.455418Z",
     "iopub.status.idle": "2023-10-28T11:37:25.467428Z",
     "shell.execute_reply": "2023-10-28T11:37:25.465533Z"
    },
    "papermill": {
     "duration": 0.034616,
     "end_time": "2023-10-28T11:37:25.470654",
     "exception": false,
     "start_time": "2023-10-28T11:37:25.436038",
     "status": "completed"
    },
    "tags": []
   },
   "outputs": [
    {
     "data": {
      "text/plain": [
       "0                                          [42, 19, 7, 46]\n",
       "1                 [0, 1, 47, 22, 46, 47, 4, 47, 22, 7, 35]\n",
       "2        [23, 13, 46, 7, 47, 38, 48, 9, 14, 26, 1, 36, ...\n",
       "3        [10, 46, 25, 25, 7, 38, 48, 32, 22, 7, 35, 46,...\n",
       "4        [0, 7, 28, 4, 38, 48, 34, 4, 13, 13, 4, 26, 22...\n",
       "                               ...                        \n",
       "39511    [3, 1, 26, 22, 19, 48, 32, 47, 6, 46, 7, 47, 3...\n",
       "39512    [32, 24, 4, 48, 0, 26, 4, 7, 5, 38, 48, 34, 4,...\n",
       "39513         [3, 1, 26, 22, 19, 48, 32, 47, 6, 46, 7, 47]\n",
       "39514        [12, 1, 14, 22, 19, 48, 32, 47, 6, 46, 7, 47]\n",
       "39515    [12, 1, 14, 22, 19, 48, 32, 47, 6, 46, 7, 47, ...\n",
       "Name: cuisine_codes, Length: 39516, dtype: object"
      ]
     },
     "execution_count": 18,
     "metadata": {},
     "output_type": "execute_result"
    }
   ],
   "source": [
    "df['cuisine_codes']"
   ]
  },
  {
   "cell_type": "markdown",
   "id": "b1ae07a8",
   "metadata": {
    "execution": {
     "iopub.execute_input": "2023-10-28T06:22:16.606144Z",
     "iopub.status.busy": "2023-10-28T06:22:16.605713Z",
     "iopub.status.idle": "2023-10-28T06:22:16.611554Z",
     "shell.execute_reply": "2023-10-28T06:22:16.610419Z",
     "shell.execute_reply.started": "2023-10-28T06:22:16.606113Z"
    },
    "papermill": {
     "duration": 0.017559,
     "end_time": "2023-10-28T11:37:25.506996",
     "exception": false,
     "start_time": "2023-10-28T11:37:25.489437",
     "status": "completed"
    },
    "tags": []
   },
   "source": [
    "### Encoding Cost"
   ]
  },
  {
   "cell_type": "code",
   "execution_count": 19,
   "id": "cdccb42d",
   "metadata": {
    "execution": {
     "iopub.execute_input": "2023-10-28T11:37:25.544633Z",
     "iopub.status.busy": "2023-10-28T11:37:25.544149Z",
     "iopub.status.idle": "2023-10-28T11:37:25.562536Z",
     "shell.execute_reply": "2023-10-28T11:37:25.560510Z"
    },
    "papermill": {
     "duration": 0.041464,
     "end_time": "2023-10-28T11:37:25.566088",
     "exception": false,
     "start_time": "2023-10-28T11:37:25.524624",
     "status": "completed"
    },
    "tags": []
   },
   "outputs": [],
   "source": [
    "df['cost_encoded'] = df['cost'].apply(lambda x: x * 1000 if x < 10 else x)"
   ]
  },
  {
   "cell_type": "markdown",
   "id": "3e0bc193",
   "metadata": {
    "papermill": {
     "duration": 0.017505,
     "end_time": "2023-10-28T11:37:25.602062",
     "exception": false,
     "start_time": "2023-10-28T11:37:25.584557",
     "status": "completed"
    },
    "tags": []
   },
   "source": [
    "# Feature Engineering"
   ]
  },
  {
   "cell_type": "markdown",
   "id": "29b63190",
   "metadata": {
    "papermill": {
     "duration": 0.017037,
     "end_time": "2023-10-28T11:37:25.636574",
     "exception": false,
     "start_time": "2023-10-28T11:37:25.619537",
     "status": "completed"
    },
    "tags": []
   },
   "source": [
    "Creating a new Feature called menu_count, which includes number of dishes/variety in the menu"
   ]
  },
  {
   "cell_type": "code",
   "execution_count": 20,
   "id": "08c50d4c",
   "metadata": {
    "execution": {
     "iopub.execute_input": "2023-10-28T11:37:25.673257Z",
     "iopub.status.busy": "2023-10-28T11:37:25.672864Z",
     "iopub.status.idle": "2023-10-28T11:37:25.691489Z",
     "shell.execute_reply": "2023-10-28T11:37:25.689989Z"
    },
    "papermill": {
     "duration": 0.03968,
     "end_time": "2023-10-28T11:37:25.693441",
     "exception": false,
     "start_time": "2023-10-28T11:37:25.653761",
     "status": "completed"
    },
    "tags": []
   },
   "outputs": [],
   "source": [
    "df['menu_count']=df['menu_item'].apply(len)-2"
   ]
  },
  {
   "cell_type": "code",
   "execution_count": 21,
   "id": "352cbb8e",
   "metadata": {
    "execution": {
     "iopub.execute_input": "2023-10-28T11:37:25.730043Z",
     "iopub.status.busy": "2023-10-28T11:37:25.729565Z",
     "iopub.status.idle": "2023-10-28T11:37:25.753102Z",
     "shell.execute_reply": "2023-10-28T11:37:25.752241Z"
    },
    "papermill": {
     "duration": 0.044672,
     "end_time": "2023-10-28T11:37:25.755299",
     "exception": false,
     "start_time": "2023-10-28T11:37:25.710627",
     "status": "completed"
    },
    "tags": []
   },
   "outputs": [
    {
     "data": {
      "text/html": [
       "<div>\n",
       "<style scoped>\n",
       "    .dataframe tbody tr th:only-of-type {\n",
       "        vertical-align: middle;\n",
       "    }\n",
       "\n",
       "    .dataframe tbody tr th {\n",
       "        vertical-align: top;\n",
       "    }\n",
       "\n",
       "    .dataframe thead th {\n",
       "        text-align: right;\n",
       "    }\n",
       "</style>\n",
       "<table border=\"1\" class=\"dataframe\">\n",
       "  <thead>\n",
       "    <tr style=\"text-align: right;\">\n",
       "      <th></th>\n",
       "      <th>restaurant_id</th>\n",
       "      <th>online_order</th>\n",
       "      <th>reservations</th>\n",
       "      <th>rating</th>\n",
       "      <th>votes</th>\n",
       "      <th>location</th>\n",
       "      <th>rest_type</th>\n",
       "      <th>cuisines</th>\n",
       "      <th>reviews_list</th>\n",
       "      <th>menu_item</th>\n",
       "      <th>type</th>\n",
       "      <th>locality</th>\n",
       "      <th>cost</th>\n",
       "      <th>online_order_encoded</th>\n",
       "      <th>reservations_encoded</th>\n",
       "      <th>locality_encoded</th>\n",
       "      <th>type_encoded</th>\n",
       "      <th>cuisine_codes</th>\n",
       "      <th>cost_encoded</th>\n",
       "      <th>menu_count</th>\n",
       "    </tr>\n",
       "  </thead>\n",
       "  <tbody>\n",
       "    <tr>\n",
       "      <th>0</th>\n",
       "      <td>6d99d335-6ef0-44e8-affa-8e522bbc6a12</td>\n",
       "      <td>No</td>\n",
       "      <td>Not available</td>\n",
       "      <td>4.6</td>\n",
       "      <td>979</td>\n",
       "      <td>MG Road</td>\n",
       "      <td>Fine Dining</td>\n",
       "      <td>Thai</td>\n",
       "      <td>[('Rated 5.0', \"RATED\\n  When lots of options ...</td>\n",
       "      <td>[]</td>\n",
       "      <td>Buffet</td>\n",
       "      <td>Indiranagar</td>\n",
       "      <td>3.0</td>\n",
       "      <td>0</td>\n",
       "      <td>0</td>\n",
       "      <td>11</td>\n",
       "      <td>0</td>\n",
       "      <td>[42, 19, 7, 46]</td>\n",
       "      <td>3000.0</td>\n",
       "      <td>0</td>\n",
       "    </tr>\n",
       "    <tr>\n",
       "      <th>1</th>\n",
       "      <td>0813b101-313a-45fe-9c4b-1ee2c6fdb33d</td>\n",
       "      <td>No</td>\n",
       "      <td>Available</td>\n",
       "      <td>4.2</td>\n",
       "      <td>3116</td>\n",
       "      <td>Lavelle Road</td>\n",
       "      <td>Lounge</td>\n",
       "      <td>Continental</td>\n",
       "      <td>[('Rated 4.0', 'RATED\\n  Had been here on a or...</td>\n",
       "      <td>[]</td>\n",
       "      <td>Dine-out</td>\n",
       "      <td>Brigade Road</td>\n",
       "      <td>2.5</td>\n",
       "      <td>0</td>\n",
       "      <td>1</td>\n",
       "      <td>5</td>\n",
       "      <td>4</td>\n",
       "      <td>[0, 1, 47, 22, 46, 47, 4, 47, 22, 7, 35]</td>\n",
       "      <td>2500.0</td>\n",
       "      <td>0</td>\n",
       "    </tr>\n",
       "    <tr>\n",
       "      <th>2</th>\n",
       "      <td>315a10d1-f3b8-4484-873d-40765594cf14</td>\n",
       "      <td>Yes</td>\n",
       "      <td>Available</td>\n",
       "      <td>4.5</td>\n",
       "      <td>418</td>\n",
       "      <td>Kammanahalli</td>\n",
       "      <td>Casual Dining</td>\n",
       "      <td>Asian, European, Italian, Korean, Malaysian, T...</td>\n",
       "      <td>[('Rated 4.0', 'RATED\\n  ValentineÃ\\x83Ã\\x83...</td>\n",
       "      <td>['Bangkok Style Raw Papaya Salad with Green Ap...</td>\n",
       "      <td>Dine-out</td>\n",
       "      <td>Kalyan Nagar</td>\n",
       "      <td>1.2</td>\n",
       "      <td>1</td>\n",
       "      <td>1</td>\n",
       "      <td>14</td>\n",
       "      <td>4</td>\n",
       "      <td>[23, 13, 46, 7, 47, 38, 48, 9, 14, 26, 1, 36, ...</td>\n",
       "      <td>1200.0</td>\n",
       "      <td>3807</td>\n",
       "    </tr>\n",
       "    <tr>\n",
       "      <th>3</th>\n",
       "      <td>c451416e-dd60-44b1-a9f0-dbc6cb456637</td>\n",
       "      <td>Yes</td>\n",
       "      <td>Not available</td>\n",
       "      <td>3.9</td>\n",
       "      <td>241</td>\n",
       "      <td>Koramangala 4th Block</td>\n",
       "      <td>Quick Bites</td>\n",
       "      <td>Pizza, Italian</td>\n",
       "      <td>[('Rated 4.0', \"RATED\\n  Simple food, no fanci...</td>\n",
       "      <td>['P-68 Masala Cheese Garlic Bread', 'P-65 Nach...</td>\n",
       "      <td>Dine-out</td>\n",
       "      <td>Koramangala 4th Block</td>\n",
       "      <td>600.0</td>\n",
       "      <td>1</td>\n",
       "      <td>0</td>\n",
       "      <td>16</td>\n",
       "      <td>4</td>\n",
       "      <td>[10, 46, 25, 25, 7, 38, 48, 32, 22, 7, 35, 46,...</td>\n",
       "      <td>600.0</td>\n",
       "      <td>1574</td>\n",
       "    </tr>\n",
       "    <tr>\n",
       "      <th>4</th>\n",
       "      <td>11c34543-2491-4494-8224-3596308bc169</td>\n",
       "      <td>Yes</td>\n",
       "      <td>Not available</td>\n",
       "      <td>4.3</td>\n",
       "      <td>658</td>\n",
       "      <td>Cunningham Road</td>\n",
       "      <td>Cafe, Dessert Parlor</td>\n",
       "      <td>Cafe, Desserts</td>\n",
       "      <td>[('Rated 4.0', 'RATED\\n  Nice and calm place.\\...</td>\n",
       "      <td>['Veggie Supreme Pizza', 'Pesto Pasta', 'Newyo...</td>\n",
       "      <td>Cafes</td>\n",
       "      <td>Residency Road</td>\n",
       "      <td>750.0</td>\n",
       "      <td>1</td>\n",
       "      <td>0</td>\n",
       "      <td>27</td>\n",
       "      <td>1</td>\n",
       "      <td>[0, 7, 28, 4, 38, 48, 34, 4, 13, 13, 4, 26, 22...</td>\n",
       "      <td>750.0</td>\n",
       "      <td>2076</td>\n",
       "    </tr>\n",
       "  </tbody>\n",
       "</table>\n",
       "</div>"
      ],
      "text/plain": [
       "                          restaurant_id online_order   reservations  rating  \\\n",
       "0  6d99d335-6ef0-44e8-affa-8e522bbc6a12           No  Not available     4.6   \n",
       "1  0813b101-313a-45fe-9c4b-1ee2c6fdb33d           No      Available     4.2   \n",
       "2  315a10d1-f3b8-4484-873d-40765594cf14          Yes      Available     4.5   \n",
       "3  c451416e-dd60-44b1-a9f0-dbc6cb456637          Yes  Not available     3.9   \n",
       "4  11c34543-2491-4494-8224-3596308bc169          Yes  Not available     4.3   \n",
       "\n",
       "   votes               location             rest_type  \\\n",
       "0    979                MG Road           Fine Dining   \n",
       "1   3116           Lavelle Road                Lounge   \n",
       "2    418           Kammanahalli         Casual Dining   \n",
       "3    241  Koramangala 4th Block           Quick Bites   \n",
       "4    658        Cunningham Road  Cafe, Dessert Parlor   \n",
       "\n",
       "                                            cuisines  \\\n",
       "0                                               Thai   \n",
       "1                                        Continental   \n",
       "2  Asian, European, Italian, Korean, Malaysian, T...   \n",
       "3                                     Pizza, Italian   \n",
       "4                                     Cafe, Desserts   \n",
       "\n",
       "                                        reviews_list  \\\n",
       "0  [('Rated 5.0', \"RATED\\n  When lots of options ...   \n",
       "1  [('Rated 4.0', 'RATED\\n  Had been here on a or...   \n",
       "2  [('Rated 4.0', 'RATED\\n  ValentineÃ\\x83Ã\\x83...   \n",
       "3  [('Rated 4.0', \"RATED\\n  Simple food, no fanci...   \n",
       "4  [('Rated 4.0', 'RATED\\n  Nice and calm place.\\...   \n",
       "\n",
       "                                           menu_item      type  \\\n",
       "0                                                 []    Buffet   \n",
       "1                                                 []  Dine-out   \n",
       "2  ['Bangkok Style Raw Papaya Salad with Green Ap...  Dine-out   \n",
       "3  ['P-68 Masala Cheese Garlic Bread', 'P-65 Nach...  Dine-out   \n",
       "4  ['Veggie Supreme Pizza', 'Pesto Pasta', 'Newyo...     Cafes   \n",
       "\n",
       "                locality   cost  online_order_encoded  reservations_encoded  \\\n",
       "0            Indiranagar    3.0                     0                     0   \n",
       "1           Brigade Road    2.5                     0                     1   \n",
       "2           Kalyan Nagar    1.2                     1                     1   \n",
       "3  Koramangala 4th Block  600.0                     1                     0   \n",
       "4         Residency Road  750.0                     1                     0   \n",
       "\n",
       "   locality_encoded  type_encoded  \\\n",
       "0                11             0   \n",
       "1                 5             4   \n",
       "2                14             4   \n",
       "3                16             4   \n",
       "4                27             1   \n",
       "\n",
       "                                       cuisine_codes  cost_encoded  menu_count  \n",
       "0                                    [42, 19, 7, 46]        3000.0           0  \n",
       "1           [0, 1, 47, 22, 46, 47, 4, 47, 22, 7, 35]        2500.0           0  \n",
       "2  [23, 13, 46, 7, 47, 38, 48, 9, 14, 26, 1, 36, ...        1200.0        3807  \n",
       "3  [10, 46, 25, 25, 7, 38, 48, 32, 22, 7, 35, 46,...         600.0        1574  \n",
       "4  [0, 7, 28, 4, 38, 48, 34, 4, 13, 13, 4, 26, 22...         750.0        2076  "
      ]
     },
     "execution_count": 21,
     "metadata": {},
     "output_type": "execute_result"
    }
   ],
   "source": [
    "df.head()"
   ]
  },
  {
   "cell_type": "code",
   "execution_count": 22,
   "id": "bc187a79",
   "metadata": {
    "execution": {
     "iopub.execute_input": "2023-10-28T11:37:25.794042Z",
     "iopub.status.busy": "2023-10-28T11:37:25.793556Z",
     "iopub.status.idle": "2023-10-28T11:37:25.800641Z",
     "shell.execute_reply": "2023-10-28T11:37:25.799587Z"
    },
    "papermill": {
     "duration": 0.029802,
     "end_time": "2023-10-28T11:37:25.803155",
     "exception": false,
     "start_time": "2023-10-28T11:37:25.773353",
     "status": "completed"
    },
    "tags": []
   },
   "outputs": [
    {
     "data": {
      "text/plain": [
       "Index(['restaurant_id', 'online_order', 'reservations', 'rating', 'votes',\n",
       "       'location', 'rest_type', 'cuisines', 'reviews_list', 'menu_item',\n",
       "       'type', 'locality', 'cost', 'online_order_encoded',\n",
       "       'reservations_encoded', 'locality_encoded', 'type_encoded',\n",
       "       'cuisine_codes', 'cost_encoded', 'menu_count'],\n",
       "      dtype='object')"
      ]
     },
     "execution_count": 22,
     "metadata": {},
     "output_type": "execute_result"
    }
   ],
   "source": [
    "df.columns"
   ]
  },
  {
   "cell_type": "markdown",
   "id": "f5023c63",
   "metadata": {
    "papermill": {
     "duration": 0.020633,
     "end_time": "2023-10-28T11:37:25.843319",
     "exception": false,
     "start_time": "2023-10-28T11:37:25.822686",
     "status": "completed"
    },
    "tags": []
   },
   "source": [
    "### Cleaned Dataset"
   ]
  },
  {
   "cell_type": "code",
   "execution_count": 23,
   "id": "8cb66777",
   "metadata": {
    "execution": {
     "iopub.execute_input": "2023-10-28T11:37:25.882521Z",
     "iopub.status.busy": "2023-10-28T11:37:25.882079Z",
     "iopub.status.idle": "2023-10-28T11:37:25.895892Z",
     "shell.execute_reply": "2023-10-28T11:37:25.893526Z"
    },
    "papermill": {
     "duration": 0.036685,
     "end_time": "2023-10-28T11:37:25.898384",
     "exception": false,
     "start_time": "2023-10-28T11:37:25.861699",
     "status": "completed"
    },
    "tags": []
   },
   "outputs": [],
   "source": [
    "df_final = df.drop(['restaurant_id','online_order','reservations','location','rest_type','cuisines','reviews_list','menu_item','cost','type','locality'],axis=1)"
   ]
  },
  {
   "cell_type": "code",
   "execution_count": 24,
   "id": "a957944a",
   "metadata": {
    "execution": {
     "iopub.execute_input": "2023-10-28T11:37:25.937565Z",
     "iopub.status.busy": "2023-10-28T11:37:25.937117Z",
     "iopub.status.idle": "2023-10-28T11:37:25.955442Z",
     "shell.execute_reply": "2023-10-28T11:37:25.953176Z"
    },
    "papermill": {
     "duration": 0.041255,
     "end_time": "2023-10-28T11:37:25.957962",
     "exception": false,
     "start_time": "2023-10-28T11:37:25.916707",
     "status": "completed"
    },
    "tags": []
   },
   "outputs": [
    {
     "data": {
      "text/html": [
       "<div>\n",
       "<style scoped>\n",
       "    .dataframe tbody tr th:only-of-type {\n",
       "        vertical-align: middle;\n",
       "    }\n",
       "\n",
       "    .dataframe tbody tr th {\n",
       "        vertical-align: top;\n",
       "    }\n",
       "\n",
       "    .dataframe thead th {\n",
       "        text-align: right;\n",
       "    }\n",
       "</style>\n",
       "<table border=\"1\" class=\"dataframe\">\n",
       "  <thead>\n",
       "    <tr style=\"text-align: right;\">\n",
       "      <th></th>\n",
       "      <th>rating</th>\n",
       "      <th>votes</th>\n",
       "      <th>online_order_encoded</th>\n",
       "      <th>reservations_encoded</th>\n",
       "      <th>locality_encoded</th>\n",
       "      <th>type_encoded</th>\n",
       "      <th>cuisine_codes</th>\n",
       "      <th>cost_encoded</th>\n",
       "      <th>menu_count</th>\n",
       "    </tr>\n",
       "  </thead>\n",
       "  <tbody>\n",
       "    <tr>\n",
       "      <th>0</th>\n",
       "      <td>4.6</td>\n",
       "      <td>979</td>\n",
       "      <td>0</td>\n",
       "      <td>0</td>\n",
       "      <td>11</td>\n",
       "      <td>0</td>\n",
       "      <td>[42, 19, 7, 46]</td>\n",
       "      <td>3000.0</td>\n",
       "      <td>0</td>\n",
       "    </tr>\n",
       "    <tr>\n",
       "      <th>1</th>\n",
       "      <td>4.2</td>\n",
       "      <td>3116</td>\n",
       "      <td>0</td>\n",
       "      <td>1</td>\n",
       "      <td>5</td>\n",
       "      <td>4</td>\n",
       "      <td>[0, 1, 47, 22, 46, 47, 4, 47, 22, 7, 35]</td>\n",
       "      <td>2500.0</td>\n",
       "      <td>0</td>\n",
       "    </tr>\n",
       "    <tr>\n",
       "      <th>2</th>\n",
       "      <td>4.5</td>\n",
       "      <td>418</td>\n",
       "      <td>1</td>\n",
       "      <td>1</td>\n",
       "      <td>14</td>\n",
       "      <td>4</td>\n",
       "      <td>[23, 13, 46, 7, 47, 38, 48, 9, 14, 26, 1, 36, ...</td>\n",
       "      <td>1200.0</td>\n",
       "      <td>3807</td>\n",
       "    </tr>\n",
       "    <tr>\n",
       "      <th>3</th>\n",
       "      <td>3.9</td>\n",
       "      <td>241</td>\n",
       "      <td>1</td>\n",
       "      <td>0</td>\n",
       "      <td>16</td>\n",
       "      <td>4</td>\n",
       "      <td>[10, 46, 25, 25, 7, 38, 48, 32, 22, 7, 35, 46,...</td>\n",
       "      <td>600.0</td>\n",
       "      <td>1574</td>\n",
       "    </tr>\n",
       "    <tr>\n",
       "      <th>4</th>\n",
       "      <td>4.3</td>\n",
       "      <td>658</td>\n",
       "      <td>1</td>\n",
       "      <td>0</td>\n",
       "      <td>27</td>\n",
       "      <td>1</td>\n",
       "      <td>[0, 7, 28, 4, 38, 48, 34, 4, 13, 13, 4, 26, 22...</td>\n",
       "      <td>750.0</td>\n",
       "      <td>2076</td>\n",
       "    </tr>\n",
       "  </tbody>\n",
       "</table>\n",
       "</div>"
      ],
      "text/plain": [
       "   rating  votes  online_order_encoded  reservations_encoded  \\\n",
       "0     4.6    979                     0                     0   \n",
       "1     4.2   3116                     0                     1   \n",
       "2     4.5    418                     1                     1   \n",
       "3     3.9    241                     1                     0   \n",
       "4     4.3    658                     1                     0   \n",
       "\n",
       "   locality_encoded  type_encoded  \\\n",
       "0                11             0   \n",
       "1                 5             4   \n",
       "2                14             4   \n",
       "3                16             4   \n",
       "4                27             1   \n",
       "\n",
       "                                       cuisine_codes  cost_encoded  menu_count  \n",
       "0                                    [42, 19, 7, 46]        3000.0           0  \n",
       "1           [0, 1, 47, 22, 46, 47, 4, 47, 22, 7, 35]        2500.0           0  \n",
       "2  [23, 13, 46, 7, 47, 38, 48, 9, 14, 26, 1, 36, ...        1200.0        3807  \n",
       "3  [10, 46, 25, 25, 7, 38, 48, 32, 22, 7, 35, 46,...         600.0        1574  \n",
       "4  [0, 7, 28, 4, 38, 48, 34, 4, 13, 13, 4, 26, 22...         750.0        2076  "
      ]
     },
     "execution_count": 24,
     "metadata": {},
     "output_type": "execute_result"
    }
   ],
   "source": [
    "df_final.head()"
   ]
  },
  {
   "cell_type": "code",
   "execution_count": 25,
   "id": "dc22dd06",
   "metadata": {
    "execution": {
     "iopub.execute_input": "2023-10-28T11:37:25.996553Z",
     "iopub.status.busy": "2023-10-28T11:37:25.996075Z",
     "iopub.status.idle": "2023-10-28T11:37:26.597088Z",
     "shell.execute_reply": "2023-10-28T11:37:26.595537Z"
    },
    "papermill": {
     "duration": 0.623938,
     "end_time": "2023-10-28T11:37:26.600377",
     "exception": false,
     "start_time": "2023-10-28T11:37:25.976439",
     "status": "completed"
    },
    "tags": []
   },
   "outputs": [],
   "source": [
    "from sklearn.preprocessing import MinMaxScaler\n",
    "import pandas as pd\n",
    "\n",
    "# Assuming 'cuisine_codes' is the column you want to standardize\n",
    "cuisine_codes = df_final['cuisine_codes'].tolist()\n",
    "\n",
    "# Reshape the data to fit the MinMaxScaler\n",
    "cuisine_codes_array = [item for sublist in cuisine_codes for item in sublist]\n",
    "cuisine_codes_array = pd.Series(cuisine_codes_array).values.reshape(-1, 1)\n",
    "\n",
    "# Initialize the scaler\n",
    "scaler = MinMaxScaler()\n",
    "\n",
    "# Fit and transform the data\n",
    "cuisine_codes_scaled = scaler.fit_transform(cuisine_codes_array)\n",
    "\n",
    "# Replace the original 'cuisine_codes' column with the scaled values\n",
    "df_final['cuisine_codes'] = df_final['cuisine_codes'].apply(lambda x: [cuisine_codes_scaled[i][0] for i in range(len(x))])"
   ]
  },
  {
   "cell_type": "code",
   "execution_count": 26,
   "id": "8663d16f",
   "metadata": {
    "execution": {
     "iopub.execute_input": "2023-10-28T11:37:26.641789Z",
     "iopub.status.busy": "2023-10-28T11:37:26.641062Z",
     "iopub.status.idle": "2023-10-28T11:37:26.732068Z",
     "shell.execute_reply": "2023-10-28T11:37:26.730881Z"
    },
    "papermill": {
     "duration": 0.114722,
     "end_time": "2023-10-28T11:37:26.735019",
     "exception": false,
     "start_time": "2023-10-28T11:37:26.620297",
     "status": "completed"
    },
    "tags": []
   },
   "outputs": [],
   "source": [
    "df_final['cuisine_codes_mean'] = df_final['cuisine_codes'].apply(lambda x: sum(x)/len(x))\n",
    "df_final=df_final.drop(['cuisine_codes'],axis=1)"
   ]
  },
  {
   "cell_type": "code",
   "execution_count": 27,
   "id": "3a0f39f9",
   "metadata": {
    "execution": {
     "iopub.execute_input": "2023-10-28T11:37:26.774319Z",
     "iopub.status.busy": "2023-10-28T11:37:26.773296Z",
     "iopub.status.idle": "2023-10-28T11:37:26.786752Z",
     "shell.execute_reply": "2023-10-28T11:37:26.785790Z"
    },
    "papermill": {
     "duration": 0.035121,
     "end_time": "2023-10-28T11:37:26.788710",
     "exception": false,
     "start_time": "2023-10-28T11:37:26.753589",
     "status": "completed"
    },
    "tags": []
   },
   "outputs": [
    {
     "data": {
      "text/html": [
       "<div>\n",
       "<style scoped>\n",
       "    .dataframe tbody tr th:only-of-type {\n",
       "        vertical-align: middle;\n",
       "    }\n",
       "\n",
       "    .dataframe tbody tr th {\n",
       "        vertical-align: top;\n",
       "    }\n",
       "\n",
       "    .dataframe thead th {\n",
       "        text-align: right;\n",
       "    }\n",
       "</style>\n",
       "<table border=\"1\" class=\"dataframe\">\n",
       "  <thead>\n",
       "    <tr style=\"text-align: right;\">\n",
       "      <th></th>\n",
       "      <th>rating</th>\n",
       "      <th>votes</th>\n",
       "      <th>online_order_encoded</th>\n",
       "      <th>reservations_encoded</th>\n",
       "      <th>locality_encoded</th>\n",
       "      <th>type_encoded</th>\n",
       "      <th>cost_encoded</th>\n",
       "      <th>menu_count</th>\n",
       "      <th>cuisine_codes_mean</th>\n",
       "    </tr>\n",
       "  </thead>\n",
       "  <tbody>\n",
       "    <tr>\n",
       "      <th>0</th>\n",
       "      <td>4.6</td>\n",
       "      <td>979</td>\n",
       "      <td>0</td>\n",
       "      <td>0</td>\n",
       "      <td>11</td>\n",
       "      <td>0</td>\n",
       "      <td>3000.0</td>\n",
       "      <td>0</td>\n",
       "      <td>0.581633</td>\n",
       "    </tr>\n",
       "    <tr>\n",
       "      <th>1</th>\n",
       "      <td>4.2</td>\n",
       "      <td>3116</td>\n",
       "      <td>0</td>\n",
       "      <td>1</td>\n",
       "      <td>5</td>\n",
       "      <td>4</td>\n",
       "      <td>2500.0</td>\n",
       "      <td>0</td>\n",
       "      <td>0.521336</td>\n",
       "    </tr>\n",
       "    <tr>\n",
       "      <th>2</th>\n",
       "      <td>4.5</td>\n",
       "      <td>418</td>\n",
       "      <td>1</td>\n",
       "      <td>1</td>\n",
       "      <td>14</td>\n",
       "      <td>4</td>\n",
       "      <td>1200.0</td>\n",
       "      <td>3807</td>\n",
       "      <td>0.552478</td>\n",
       "    </tr>\n",
       "    <tr>\n",
       "      <th>3</th>\n",
       "      <td>3.9</td>\n",
       "      <td>241</td>\n",
       "      <td>1</td>\n",
       "      <td>0</td>\n",
       "      <td>16</td>\n",
       "      <td>4</td>\n",
       "      <td>600.0</td>\n",
       "      <td>1574</td>\n",
       "      <td>0.520408</td>\n",
       "    </tr>\n",
       "    <tr>\n",
       "      <th>4</th>\n",
       "      <td>4.3</td>\n",
       "      <td>658</td>\n",
       "      <td>1</td>\n",
       "      <td>0</td>\n",
       "      <td>27</td>\n",
       "      <td>1</td>\n",
       "      <td>750.0</td>\n",
       "      <td>2076</td>\n",
       "      <td>0.520408</td>\n",
       "    </tr>\n",
       "  </tbody>\n",
       "</table>\n",
       "</div>"
      ],
      "text/plain": [
       "   rating  votes  online_order_encoded  reservations_encoded  \\\n",
       "0     4.6    979                     0                     0   \n",
       "1     4.2   3116                     0                     1   \n",
       "2     4.5    418                     1                     1   \n",
       "3     3.9    241                     1                     0   \n",
       "4     4.3    658                     1                     0   \n",
       "\n",
       "   locality_encoded  type_encoded  cost_encoded  menu_count  \\\n",
       "0                11             0        3000.0           0   \n",
       "1                 5             4        2500.0           0   \n",
       "2                14             4        1200.0        3807   \n",
       "3                16             4         600.0        1574   \n",
       "4                27             1         750.0        2076   \n",
       "\n",
       "   cuisine_codes_mean  \n",
       "0            0.581633  \n",
       "1            0.521336  \n",
       "2            0.552478  \n",
       "3            0.520408  \n",
       "4            0.520408  "
      ]
     },
     "execution_count": 27,
     "metadata": {},
     "output_type": "execute_result"
    }
   ],
   "source": [
    "df_final.head()"
   ]
  },
  {
   "cell_type": "code",
   "execution_count": 28,
   "id": "1881e913",
   "metadata": {
    "execution": {
     "iopub.execute_input": "2023-10-28T11:37:26.828570Z",
     "iopub.status.busy": "2023-10-28T11:37:26.827971Z",
     "iopub.status.idle": "2023-10-28T11:37:26.834902Z",
     "shell.execute_reply": "2023-10-28T11:37:26.833240Z"
    },
    "papermill": {
     "duration": 0.030407,
     "end_time": "2023-10-28T11:37:26.837942",
     "exception": false,
     "start_time": "2023-10-28T11:37:26.807535",
     "status": "completed"
    },
    "tags": []
   },
   "outputs": [
    {
     "data": {
      "text/plain": [
       "Index(['rating', 'votes', 'online_order_encoded', 'reservations_encoded',\n",
       "       'locality_encoded', 'type_encoded', 'cost_encoded', 'menu_count',\n",
       "       'cuisine_codes_mean'],\n",
       "      dtype='object')"
      ]
     },
     "execution_count": 28,
     "metadata": {},
     "output_type": "execute_result"
    }
   ],
   "source": [
    "df_final.columns"
   ]
  },
  {
   "cell_type": "markdown",
   "id": "4e95caca",
   "metadata": {
    "papermill": {
     "duration": 0.018197,
     "end_time": "2023-10-28T11:37:26.874857",
     "exception": false,
     "start_time": "2023-10-28T11:37:26.856660",
     "status": "completed"
    },
    "tags": []
   },
   "source": [
    "# Correlation Heatmap"
   ]
  },
  {
   "cell_type": "code",
   "execution_count": 29,
   "id": "475460e7",
   "metadata": {
    "execution": {
     "iopub.execute_input": "2023-10-28T11:37:26.914062Z",
     "iopub.status.busy": "2023-10-28T11:37:26.913636Z",
     "iopub.status.idle": "2023-10-28T11:37:27.481337Z",
     "shell.execute_reply": "2023-10-28T11:37:27.480362Z"
    },
    "papermill": {
     "duration": 0.589933,
     "end_time": "2023-10-28T11:37:27.483386",
     "exception": false,
     "start_time": "2023-10-28T11:37:26.893453",
     "status": "completed"
    },
    "tags": []
   },
   "outputs": [
    {
     "data": {
      "image/png": "[encoded data removed]",
      "text/plain": [
       "<Figure size 1100x900 with 2 Axes>"
      ]
     },
     "metadata": {},
     "output_type": "display_data"
    }
   ],
   "source": [
    "# Set background color / chart style\n",
    "sns.set_style(style = 'white')\n",
    "\n",
    "# Set up  matplotlib figure\n",
    "plt.figure(figsize=(11,9))\n",
    "\n",
    "#Heatmap\n",
    "sns.heatmap(df_final.corr(), cmap=plt.cm.YlGnBu_r, center=0, annot=True)\n",
    "\n",
    "plt.show()"
   ]
  },
  {
   "cell_type": "code",
   "execution_count": null,
   "id": "34eb1439",
   "metadata": {
    "papermill": {
     "duration": 0.019059,
     "end_time": "2023-10-28T11:37:27.522066",
     "exception": false,
     "start_time": "2023-10-28T11:37:27.503007",
     "status": "completed"
    },
    "tags": []
   },
   "outputs": [],
   "source": []
  },
  {
   "cell_type": "markdown",
   "id": "e1aeec0a",
   "metadata": {
    "papermill": {
     "duration": 0.018934,
     "end_time": "2023-10-28T11:37:27.560704",
     "exception": false,
     "start_time": "2023-10-28T11:37:27.541770",
     "status": "completed"
    },
    "tags": []
   },
   "source": [
    "## SEGREGATING VARIABLES:INDEPENDENT AND DEPENDENT VARIABLES\n"
   ]
  },
  {
   "cell_type": "code",
   "execution_count": 30,
   "id": "6c3c3cb2",
   "metadata": {
    "execution": {
     "iopub.execute_input": "2023-10-28T11:37:27.602118Z",
     "iopub.status.busy": "2023-10-28T11:37:27.601025Z",
     "iopub.status.idle": "2023-10-28T11:37:27.612436Z",
     "shell.execute_reply": "2023-10-28T11:37:27.611235Z"
    },
    "papermill": {
     "duration": 0.034575,
     "end_time": "2023-10-28T11:37:27.614476",
     "exception": false,
     "start_time": "2023-10-28T11:37:27.579901",
     "status": "completed"
    },
    "tags": []
   },
   "outputs": [
    {
     "data": {
      "text/plain": [
       "((39516, 8), (39516,))"
      ]
     },
     "execution_count": 30,
     "metadata": {},
     "output_type": "execute_result"
    }
   ],
   "source": [
    "#segregating variables\n",
    "x = df_final.drop(['cost_encoded'], axis=1)\n",
    "y = df_final['cost_encoded']\n",
    "x.shape, y.shape"
   ]
  },
  {
   "cell_type": "markdown",
   "id": "c19ef5b6",
   "metadata": {
    "papermill": {
     "duration": 0.019569,
     "end_time": "2023-10-28T11:37:27.654218",
     "exception": false,
     "start_time": "2023-10-28T11:37:27.634649",
     "status": "completed"
    },
    "tags": []
   },
   "source": [
    "# SCALING THE DATA (USING MINMAX SCALER)"
   ]
  },
  {
   "cell_type": "code",
   "execution_count": 31,
   "id": "f3322344",
   "metadata": {
    "execution": {
     "iopub.execute_input": "2023-10-28T11:37:27.697287Z",
     "iopub.status.busy": "2023-10-28T11:37:27.696517Z",
     "iopub.status.idle": "2023-10-28T11:37:27.711394Z",
     "shell.execute_reply": "2023-10-28T11:37:27.709684Z"
    },
    "papermill": {
     "duration": 0.039796,
     "end_time": "2023-10-28T11:37:27.715085",
     "exception": false,
     "start_time": "2023-10-28T11:37:27.675289",
     "status": "completed"
    },
    "tags": []
   },
   "outputs": [],
   "source": [
    "# Importing MinMax Scaler\n",
    "from sklearn.preprocessing import MinMaxScaler\n",
    "scaler = MinMaxScaler()\n",
    "x_scaled = scaler.fit_transform(x)"
   ]
  },
  {
   "cell_type": "code",
   "execution_count": 32,
   "id": "1989ac7d",
   "metadata": {
    "execution": {
     "iopub.execute_input": "2023-10-28T11:37:27.757973Z",
     "iopub.status.busy": "2023-10-28T11:37:27.757465Z",
     "iopub.status.idle": "2023-10-28T11:37:27.764490Z",
     "shell.execute_reply": "2023-10-28T11:37:27.762430Z"
    },
    "papermill": {
     "duration": 0.031928,
     "end_time": "2023-10-28T11:37:27.767614",
     "exception": false,
     "start_time": "2023-10-28T11:37:27.735686",
     "status": "completed"
    },
    "tags": []
   },
   "outputs": [],
   "source": [
    "x=pd.DataFrame(x_scaled)"
   ]
  },
  {
   "cell_type": "markdown",
   "id": "7a3d5c77",
   "metadata": {
    "papermill": {
     "duration": 0.019751,
     "end_time": "2023-10-28T11:37:27.807654",
     "exception": false,
     "start_time": "2023-10-28T11:37:27.787903",
     "status": "completed"
    },
    "tags": []
   },
   "source": [
    "# SPLITTING THE DATASET"
   ]
  },
  {
   "cell_type": "code",
   "execution_count": 33,
   "id": "e7145073",
   "metadata": {
    "execution": {
     "iopub.execute_input": "2023-10-28T11:37:27.850998Z",
     "iopub.status.busy": "2023-10-28T11:37:27.850108Z",
     "iopub.status.idle": "2023-10-28T11:37:28.017718Z",
     "shell.execute_reply": "2023-10-28T11:37:28.016406Z"
    },
    "papermill": {
     "duration": 0.194633,
     "end_time": "2023-10-28T11:37:28.022071",
     "exception": false,
     "start_time": "2023-10-28T11:37:27.827438",
     "status": "completed"
    },
    "tags": []
   },
   "outputs": [],
   "source": [
    "# Importing Train test split\n",
    "from sklearn.model_selection import train_test_split\n",
    "# Splitting into Train and Test Data sets\n",
    "train_x, test_x, train_y, test_y = train_test_split(x,y, random_state = 49)"
   ]
  },
  {
   "cell_type": "markdown",
   "id": "e6bea06e",
   "metadata": {
    "papermill": {
     "duration": 0.01945,
     "end_time": "2023-10-28T11:37:28.062679",
     "exception": false,
     "start_time": "2023-10-28T11:37:28.043229",
     "status": "completed"
    },
    "tags": []
   },
   "source": [
    "# IMPLEMENTING THE MODELS"
   ]
  },
  {
   "cell_type": "code",
   "execution_count": 34,
   "id": "9eaa5ab2",
   "metadata": {
    "execution": {
     "iopub.execute_input": "2023-10-28T11:37:28.108669Z",
     "iopub.status.busy": "2023-10-28T11:37:28.107751Z",
     "iopub.status.idle": "2023-10-28T11:37:29.139859Z",
     "shell.execute_reply": "2023-10-28T11:37:29.137883Z"
    },
    "papermill": {
     "duration": 1.059118,
     "end_time": "2023-10-28T11:37:29.143715",
     "exception": false,
     "start_time": "2023-10-28T11:37:28.084597",
     "status": "completed"
    },
    "tags": []
   },
   "outputs": [],
   "source": [
    "# Importing the models\n",
    "from sklearn.linear_model import LinearRegression\n",
    "from sklearn.tree import DecisionTreeRegressor\n",
    "from sklearn.ensemble import RandomForestRegressor\n",
    "from sklearn.ensemble import GradientBoostingRegressor\n",
    "from sklearn.svm import SVR\n",
    "from sklearn.neighbors import KNeighborsRegressor\n",
    "from sklearn.linear_model import Lasso\n",
    "from sklearn.linear_model import Ridge\n",
    "from catboost import CatBoostRegressor"
   ]
  },
  {
   "cell_type": "code",
   "execution_count": 35,
   "id": "5371b657",
   "metadata": {
    "execution": {
     "iopub.execute_input": "2023-10-28T11:37:29.192009Z",
     "iopub.status.busy": "2023-10-28T11:37:29.191396Z",
     "iopub.status.idle": "2023-10-28T11:37:29.203900Z",
     "shell.execute_reply": "2023-10-28T11:37:29.201552Z"
    },
    "papermill": {
     "duration": 0.041368,
     "end_time": "2023-10-28T11:37:29.207322",
     "exception": false,
     "start_time": "2023-10-28T11:37:29.165954",
     "status": "completed"
    },
    "tags": []
   },
   "outputs": [],
   "source": [
    "# Creating the models\n",
    "lr_reg = LinearRegression()\n",
    "dt_reg = DecisionTreeRegressor()\n",
    "rf_reg = RandomForestRegressor(n_estimators=100, max_depth=None)\n",
    "gb_reg = GradientBoostingRegressor(n_estimators=100, learning_rate=0.1, max_depth=3)\n",
    "sv_reg = SVR(C=1.0, epsilon=0.1, kernel='rbf')\n",
    "knn_reg = KNeighborsRegressor(n_neighbors=5, weights='uniform')\n",
    "ls_reg = Lasso()\n",
    "rd_reg = Ridge()\n",
    "cb_reg = CatBoostRegressor(silent=True)"
   ]
  },
  {
   "cell_type": "code",
   "execution_count": 36,
   "id": "c8679aef",
   "metadata": {
    "execution": {
     "iopub.execute_input": "2023-10-28T11:37:29.255406Z",
     "iopub.status.busy": "2023-10-28T11:37:29.254320Z",
     "iopub.status.idle": "2023-10-28T11:38:15.751695Z",
     "shell.execute_reply": "2023-10-28T11:38:15.750539Z"
    },
    "papermill": {
     "duration": 46.543125,
     "end_time": "2023-10-28T11:38:15.773728",
     "exception": false,
     "start_time": "2023-10-28T11:37:29.230603",
     "status": "completed"
    },
    "tags": []
   },
   "outputs": [
    {
     "data": {
      "text/plain": [
       "<catboost.core.CatBoostRegressor at 0x7ac8995147c0>"
      ]
     },
     "execution_count": 36,
     "metadata": {},
     "output_type": "execute_result"
    }
   ],
   "source": [
    "# Fitting the models\n",
    "lr_reg.fit(train_x,train_y)\n",
    "dt_reg.fit(train_x,train_y)\n",
    "rf_reg.fit(train_x,train_y)\n",
    "gb_reg.fit(train_x,train_y)\n",
    "sv_reg.fit(train_x,train_y)\n",
    "knn_reg.fit(train_x,train_y)\n",
    "ls_reg.fit(train_x,train_y)\n",
    "rd_reg.fit(train_x,train_y)\n",
    "cb_reg.fit(train_x,train_y)"
   ]
  },
  {
   "cell_type": "markdown",
   "id": "7e2ce4f5",
   "metadata": {
    "papermill": {
     "duration": 0.019437,
     "end_time": "2023-10-28T11:38:15.812679",
     "exception": false,
     "start_time": "2023-10-28T11:38:15.793242",
     "status": "completed"
    },
    "tags": []
   },
   "source": [
    "# Evaluation and Cross-Validation of the models"
   ]
  },
  {
   "cell_type": "code",
   "execution_count": 37,
   "id": "5abbc748",
   "metadata": {
    "execution": {
     "iopub.execute_input": "2023-10-28T11:38:15.853971Z",
     "iopub.status.busy": "2023-10-28T11:38:15.853437Z",
     "iopub.status.idle": "2023-10-28T11:43:24.842134Z",
     "shell.execute_reply": "2023-10-28T11:43:24.840168Z"
    },
    "papermill": {
     "duration": 309.013063,
     "end_time": "2023-10-28T11:43:24.845228",
     "exception": false,
     "start_time": "2023-10-28T11:38:15.832165",
     "status": "completed"
    },
    "tags": []
   },
   "outputs": [],
   "source": [
    "from sklearn.model_selection import cross_val_score, KFold\n",
    "\n",
    "# Defining parameters for Cross-Validation\n",
    "num_folds = 5\n",
    "cv = KFold(n_splits=num_folds, shuffle=True, random_state=49)\n",
    "\n",
    "# Creating a Cross-Validation Function\n",
    "def cv_model(model, x, y):\n",
    "    rmse_scores = cross_val_score(model, x, y, cv=cv, scoring='neg_root_mean_squared_error')\n",
    "    return -rmse_scores.mean()\n",
    "\n",
    "# Performing Cross-Validation for each model\n",
    "results = []\n",
    "models = [\"Linear Regressor\", \"Decision Tree Regressor\", \"Random Forest Regressor\", \n",
    "          \"Gradient Boosting Regressor\", \"SVR\", \"KNN Regressor\", \"Lasso\", \"Ridge\", \"Cat Boost Regressor\"]\n",
    "\n",
    "for model, model_name in zip([lr_reg, dt_reg, rf_reg, gb_reg, sv_reg, knn_reg, ls_reg, rd_reg, cb_reg], models):\n",
    "    rmse_scores_mean = cv_model(model, x, y)\n",
    "\n",
    "    # Storing the Results\n",
    "    results.append({\n",
    "        \"Model\": model_name,\n",
    "        \"RMSE\": rmse_scores_mean\n",
    "    })\n",
    "\n",
    "# Creating a dataframe to store the results\n",
    "cv_df = pd.DataFrame(results)"
   ]
  },
  {
   "cell_type": "code",
   "execution_count": 38,
   "id": "871a148f",
   "metadata": {
    "execution": {
     "iopub.execute_input": "2023-10-28T11:43:24.886125Z",
     "iopub.status.busy": "2023-10-28T11:43:24.885702Z",
     "iopub.status.idle": "2023-10-28T11:43:24.897306Z",
     "shell.execute_reply": "2023-10-28T11:43:24.895556Z"
    },
    "papermill": {
     "duration": 0.034533,
     "end_time": "2023-10-28T11:43:24.899650",
     "exception": false,
     "start_time": "2023-10-28T11:43:24.865117",
     "status": "completed"
    },
    "tags": []
   },
   "outputs": [
    {
     "data": {
      "text/html": [
       "<div>\n",
       "<style scoped>\n",
       "    .dataframe tbody tr th:only-of-type {\n",
       "        vertical-align: middle;\n",
       "    }\n",
       "\n",
       "    .dataframe tbody tr th {\n",
       "        vertical-align: top;\n",
       "    }\n",
       "\n",
       "    .dataframe thead th {\n",
       "        text-align: right;\n",
       "    }\n",
       "</style>\n",
       "<table border=\"1\" class=\"dataframe\">\n",
       "  <thead>\n",
       "    <tr style=\"text-align: right;\">\n",
       "      <th></th>\n",
       "      <th>Model</th>\n",
       "      <th>RMSE</th>\n",
       "    </tr>\n",
       "  </thead>\n",
       "  <tbody>\n",
       "    <tr>\n",
       "      <th>0</th>\n",
       "      <td>Linear Regressor</td>\n",
       "      <td>333.752858</td>\n",
       "    </tr>\n",
       "    <tr>\n",
       "      <th>1</th>\n",
       "      <td>Decision Tree Regressor</td>\n",
       "      <td>244.887376</td>\n",
       "    </tr>\n",
       "    <tr>\n",
       "      <th>2</th>\n",
       "      <td>Random Forest Regressor</td>\n",
       "      <td>188.407701</td>\n",
       "    </tr>\n",
       "    <tr>\n",
       "      <th>3</th>\n",
       "      <td>Gradient Boosting Regressor</td>\n",
       "      <td>277.205744</td>\n",
       "    </tr>\n",
       "    <tr>\n",
       "      <th>4</th>\n",
       "      <td>SVR</td>\n",
       "      <td>347.657196</td>\n",
       "    </tr>\n",
       "    <tr>\n",
       "      <th>5</th>\n",
       "      <td>KNN Regressor</td>\n",
       "      <td>298.340163</td>\n",
       "    </tr>\n",
       "    <tr>\n",
       "      <th>6</th>\n",
       "      <td>Lasso</td>\n",
       "      <td>334.868296</td>\n",
       "    </tr>\n",
       "    <tr>\n",
       "      <th>7</th>\n",
       "      <td>Ridge</td>\n",
       "      <td>333.752779</td>\n",
       "    </tr>\n",
       "    <tr>\n",
       "      <th>8</th>\n",
       "      <td>Cat Boost Regressor</td>\n",
       "      <td>228.106577</td>\n",
       "    </tr>\n",
       "  </tbody>\n",
       "</table>\n",
       "</div>"
      ],
      "text/plain": [
       "                         Model        RMSE\n",
       "0             Linear Regressor  333.752858\n",
       "1      Decision Tree Regressor  244.887376\n",
       "2      Random Forest Regressor  188.407701\n",
       "3  Gradient Boosting Regressor  277.205744\n",
       "4                          SVR  347.657196\n",
       "5                KNN Regressor  298.340163\n",
       "6                        Lasso  334.868296\n",
       "7                        Ridge  333.752779\n",
       "8          Cat Boost Regressor  228.106577"
      ]
     },
     "execution_count": 38,
     "metadata": {},
     "output_type": "execute_result"
    }
   ],
   "source": [
    "cv_df"
   ]
  },
  {
   "cell_type": "markdown",
   "id": "37458e61",
   "metadata": {
    "papermill": {
     "duration": 0.019794,
     "end_time": "2023-10-28T11:43:24.938973",
     "exception": false,
     "start_time": "2023-10-28T11:43:24.919179",
     "status": "completed"
    },
    "tags": []
   },
   "source": [
    "Hence, random forest regressor is performing well. So, we will use this model."
   ]
  },
  {
   "cell_type": "markdown",
   "id": "9335d5f3",
   "metadata": {
    "papermill": {
     "duration": 0.019448,
     "end_time": "2023-10-28T11:43:24.977653",
     "exception": false,
     "start_time": "2023-10-28T11:43:24.958205",
     "status": "completed"
    },
    "tags": []
   },
   "source": [
    "### Predicting on test data set"
   ]
  },
  {
   "cell_type": "code",
   "execution_count": 39,
   "id": "a0bb70e9",
   "metadata": {
    "execution": {
     "iopub.execute_input": "2023-10-28T11:43:25.021580Z",
     "iopub.status.busy": "2023-10-28T11:43:25.021211Z",
     "iopub.status.idle": "2023-10-28T11:43:33.725839Z",
     "shell.execute_reply": "2023-10-28T11:43:33.724189Z"
    },
    "papermill": {
     "duration": 8.729638,
     "end_time": "2023-10-28T11:43:33.728539",
     "exception": false,
     "start_time": "2023-10-28T11:43:24.998901",
     "status": "completed"
    },
    "tags": []
   },
   "outputs": [
    {
     "data": {
      "text/plain": [
       "189.74589877702002"
      ]
     },
     "execution_count": 39,
     "metadata": {},
     "output_type": "execute_result"
    }
   ],
   "source": [
    "# Fitting the model to Train Data\n",
    "rf_reg.fit(train_x,train_y)\n",
    "# Predicting on Test Data\n",
    "test_pre = rf_reg.predict(test_x)\n",
    "# Evaluation using RMSE:\n",
    "from sklearn.metrics import mean_squared_error as mse\n",
    "from math import sqrt\n",
    "RMSE = np.sqrt(mse(test_y,test_pre))\n",
    "RMSE"
   ]
  },
  {
   "cell_type": "markdown",
   "id": "7836f93d",
   "metadata": {
    "papermill": {
     "duration": 0.019962,
     "end_time": "2023-10-28T11:43:33.769095",
     "exception": false,
     "start_time": "2023-10-28T11:43:33.749133",
     "status": "completed"
    },
    "tags": []
   },
   "source": [
    "# Final Test"
   ]
  },
  {
   "cell_type": "markdown",
   "id": "f37f81fc",
   "metadata": {
    "papermill": {
     "duration": 0.019912,
     "end_time": "2023-10-28T11:43:33.809301",
     "exception": false,
     "start_time": "2023-10-28T11:43:33.789389",
     "status": "completed"
    },
    "tags": []
   },
   "source": [
    "## Loading the Data"
   ]
  },
  {
   "cell_type": "code",
   "execution_count": 40,
   "id": "46adab8f",
   "metadata": {
    "execution": {
     "iopub.execute_input": "2023-10-28T11:43:33.852337Z",
     "iopub.status.busy": "2023-10-28T11:43:33.851896Z",
     "iopub.status.idle": "2023-10-28T11:43:36.109985Z",
     "shell.execute_reply": "2023-10-28T11:43:36.108533Z"
    },
    "papermill": {
     "duration": 2.283557,
     "end_time": "2023-10-28T11:43:36.112963",
     "exception": false,
     "start_time": "2023-10-28T11:43:33.829406",
     "status": "completed"
    },
    "tags": []
   },
   "outputs": [
    {
     "data": {
      "text/html": [
       "<div>\n",
       "<style scoped>\n",
       "    .dataframe tbody tr th:only-of-type {\n",
       "        vertical-align: middle;\n",
       "    }\n",
       "\n",
       "    .dataframe tbody tr th {\n",
       "        vertical-align: top;\n",
       "    }\n",
       "\n",
       "    .dataframe thead th {\n",
       "        text-align: right;\n",
       "    }\n",
       "</style>\n",
       "<table border=\"1\" class=\"dataframe\">\n",
       "  <thead>\n",
       "    <tr style=\"text-align: right;\">\n",
       "      <th></th>\n",
       "      <th>restaurant_id</th>\n",
       "      <th>online_order</th>\n",
       "      <th>reservations</th>\n",
       "      <th>rating</th>\n",
       "      <th>votes</th>\n",
       "      <th>location</th>\n",
       "      <th>rest_type</th>\n",
       "      <th>cuisines</th>\n",
       "      <th>reviews_list</th>\n",
       "      <th>menu_item</th>\n",
       "      <th>type</th>\n",
       "      <th>locality</th>\n",
       "    </tr>\n",
       "  </thead>\n",
       "  <tbody>\n",
       "    <tr>\n",
       "      <th>0</th>\n",
       "      <td>aa540e8f-055d-4fd4-8127-efe6c1f5e8e7</td>\n",
       "      <td>No</td>\n",
       "      <td>Not available</td>\n",
       "      <td>3.9</td>\n",
       "      <td>0</td>\n",
       "      <td>Whitefield</td>\n",
       "      <td>Quick Bites</td>\n",
       "      <td>North Indian</td>\n",
       "      <td>[]</td>\n",
       "      <td>[]</td>\n",
       "      <td>Dine-out</td>\n",
       "      <td>Whitefield</td>\n",
       "    </tr>\n",
       "    <tr>\n",
       "      <th>1</th>\n",
       "      <td>ed6c18ab-3a15-41a5-bde7-264254cc1ef4</td>\n",
       "      <td>Yes</td>\n",
       "      <td>Not available</td>\n",
       "      <td>3.3</td>\n",
       "      <td>120</td>\n",
       "      <td>East Bangalore</td>\n",
       "      <td>Delivery</td>\n",
       "      <td>Continental, Asian, Healthy Food, Burger, Biry...</td>\n",
       "      <td>[('Rated 4.0', 'RATED\\n  This is the one of my...</td>\n",
       "      <td>[]</td>\n",
       "      <td>Delivery</td>\n",
       "      <td>Sarjapur Road</td>\n",
       "    </tr>\n",
       "    <tr>\n",
       "      <th>2</th>\n",
       "      <td>4e60f1e4-b4ca-4bc1-8540-006f349f65dc</td>\n",
       "      <td>No</td>\n",
       "      <td>Not available</td>\n",
       "      <td>4.2</td>\n",
       "      <td>843</td>\n",
       "      <td>Whitefield</td>\n",
       "      <td>Cafe</td>\n",
       "      <td>Cafe, Italian, Continental</td>\n",
       "      <td>[('Rated 4.0', \"RATED\\n  First time visit to t...</td>\n",
       "      <td>[]</td>\n",
       "      <td>Dine-out</td>\n",
       "      <td>Whitefield</td>\n",
       "    </tr>\n",
       "    <tr>\n",
       "      <th>3</th>\n",
       "      <td>fcf28310-1e85-48fd-9ec4-0613c7572983</td>\n",
       "      <td>No</td>\n",
       "      <td>Not available</td>\n",
       "      <td>3.0</td>\n",
       "      <td>24</td>\n",
       "      <td>Sarjapur Road</td>\n",
       "      <td>Quick Bites</td>\n",
       "      <td>Biryani, North Indian, Chinese, Kerala</td>\n",
       "      <td>[('Rated 1.0', 'RATED\\n  Food not packed prope...</td>\n",
       "      <td>[]</td>\n",
       "      <td>Dine-out</td>\n",
       "      <td>Sarjapur Road</td>\n",
       "    </tr>\n",
       "    <tr>\n",
       "      <th>4</th>\n",
       "      <td>3c9a06c8-3117-48f2-b0c9-f677923f6d89</td>\n",
       "      <td>No</td>\n",
       "      <td>Not available</td>\n",
       "      <td>3.9</td>\n",
       "      <td>0</td>\n",
       "      <td>Wilson Garden</td>\n",
       "      <td>Quick Bites</td>\n",
       "      <td>Bakery, Beverages</td>\n",
       "      <td>[]</td>\n",
       "      <td>[]</td>\n",
       "      <td>Desserts</td>\n",
       "      <td>Koramangala 7th Block</td>\n",
       "    </tr>\n",
       "  </tbody>\n",
       "</table>\n",
       "</div>"
      ],
      "text/plain": [
       "                          restaurant_id online_order   reservations  rating  \\\n",
       "0  aa540e8f-055d-4fd4-8127-efe6c1f5e8e7           No  Not available     3.9   \n",
       "1  ed6c18ab-3a15-41a5-bde7-264254cc1ef4          Yes  Not available     3.3   \n",
       "2  4e60f1e4-b4ca-4bc1-8540-006f349f65dc           No  Not available     4.2   \n",
       "3  fcf28310-1e85-48fd-9ec4-0613c7572983           No  Not available     3.0   \n",
       "4  3c9a06c8-3117-48f2-b0c9-f677923f6d89           No  Not available     3.9   \n",
       "\n",
       "   votes        location    rest_type  \\\n",
       "0      0      Whitefield  Quick Bites   \n",
       "1    120  East Bangalore     Delivery   \n",
       "2    843      Whitefield         Cafe   \n",
       "3     24   Sarjapur Road  Quick Bites   \n",
       "4      0   Wilson Garden  Quick Bites   \n",
       "\n",
       "                                            cuisines  \\\n",
       "0                                       North Indian   \n",
       "1  Continental, Asian, Healthy Food, Burger, Biry...   \n",
       "2                         Cafe, Italian, Continental   \n",
       "3             Biryani, North Indian, Chinese, Kerala   \n",
       "4                                  Bakery, Beverages   \n",
       "\n",
       "                                        reviews_list menu_item      type  \\\n",
       "0                                                 []        []  Dine-out   \n",
       "1  [('Rated 4.0', 'RATED\\n  This is the one of my...        []  Delivery   \n",
       "2  [('Rated 4.0', \"RATED\\n  First time visit to t...        []  Dine-out   \n",
       "3  [('Rated 1.0', 'RATED\\n  Food not packed prope...        []  Dine-out   \n",
       "4                                                 []        []  Desserts   \n",
       "\n",
       "                locality  \n",
       "0             Whitefield  \n",
       "1          Sarjapur Road  \n",
       "2             Whitefield  \n",
       "3          Sarjapur Road  \n",
       "4  Koramangala 7th Block  "
      ]
     },
     "execution_count": 40,
     "metadata": {},
     "output_type": "execute_result"
    }
   ],
   "source": [
    "d = pd.read_csv('/kaggle/input/epoch-23/test.csv')\n",
    "d.head()"
   ]
  },
  {
   "cell_type": "code",
   "execution_count": 41,
   "id": "13b1dd3c",
   "metadata": {
    "execution": {
     "iopub.execute_input": "2023-10-28T11:43:36.157017Z",
     "iopub.status.busy": "2023-10-28T11:43:36.156535Z",
     "iopub.status.idle": "2023-10-28T11:43:36.168850Z",
     "shell.execute_reply": "2023-10-28T11:43:36.167690Z"
    },
    "papermill": {
     "duration": 0.036959,
     "end_time": "2023-10-28T11:43:36.170825",
     "exception": false,
     "start_time": "2023-10-28T11:43:36.133866",
     "status": "completed"
    },
    "tags": []
   },
   "outputs": [
    {
     "data": {
      "text/plain": [
       "0       0\n",
       "1       1\n",
       "2       0\n",
       "3       0\n",
       "4       0\n",
       "       ..\n",
       "9874    1\n",
       "9875    1\n",
       "9876    0\n",
       "9877    1\n",
       "9878    0\n",
       "Name: online_order_encoded, Length: 9879, dtype: int64"
      ]
     },
     "execution_count": 41,
     "metadata": {},
     "output_type": "execute_result"
    }
   ],
   "source": [
    "d['online_order_encoded']=lbenc.fit_transform(d['online_order'])\n",
    "\n",
    "d['online_order_encoded']"
   ]
  },
  {
   "cell_type": "code",
   "execution_count": 42,
   "id": "c9a67b37",
   "metadata": {
    "execution": {
     "iopub.execute_input": "2023-10-28T11:43:36.214144Z",
     "iopub.status.busy": "2023-10-28T11:43:36.213683Z",
     "iopub.status.idle": "2023-10-28T11:43:36.224171Z",
     "shell.execute_reply": "2023-10-28T11:43:36.222300Z"
    },
    "papermill": {
     "duration": 0.035994,
     "end_time": "2023-10-28T11:43:36.227589",
     "exception": false,
     "start_time": "2023-10-28T11:43:36.191595",
     "status": "completed"
    },
    "tags": []
   },
   "outputs": [],
   "source": [
    "# Apply label encoding using map\n",
    "d['reservations_encoded'] = d['reservations'].map(label_mapping)"
   ]
  },
  {
   "cell_type": "code",
   "execution_count": 43,
   "id": "cdb07c8c",
   "metadata": {
    "execution": {
     "iopub.execute_input": "2023-10-28T11:43:36.270217Z",
     "iopub.status.busy": "2023-10-28T11:43:36.269831Z",
     "iopub.status.idle": "2023-10-28T11:43:36.281824Z",
     "shell.execute_reply": "2023-10-28T11:43:36.280127Z"
    },
    "papermill": {
     "duration": 0.036871,
     "end_time": "2023-10-28T11:43:36.285036",
     "exception": false,
     "start_time": "2023-10-28T11:43:36.248165",
     "status": "completed"
    },
    "tags": []
   },
   "outputs": [
    {
     "data": {
      "text/plain": [
       "0       0\n",
       "1       0\n",
       "2       0\n",
       "3       0\n",
       "4       0\n",
       "       ..\n",
       "9874    0\n",
       "9875    0\n",
       "9876    0\n",
       "9877    0\n",
       "9878    0\n",
       "Name: reservations_encoded, Length: 9879, dtype: int64"
      ]
     },
     "execution_count": 43,
     "metadata": {},
     "output_type": "execute_result"
    }
   ],
   "source": [
    "d['reservations_encoded']"
   ]
  },
  {
   "cell_type": "code",
   "execution_count": 44,
   "id": "26a0c27c",
   "metadata": {
    "execution": {
     "iopub.execute_input": "2023-10-28T11:43:36.327239Z",
     "iopub.status.busy": "2023-10-28T11:43:36.326867Z",
     "iopub.status.idle": "2023-10-28T11:43:36.337702Z",
     "shell.execute_reply": "2023-10-28T11:43:36.336660Z"
    },
    "papermill": {
     "duration": 0.035502,
     "end_time": "2023-10-28T11:43:36.340754",
     "exception": false,
     "start_time": "2023-10-28T11:43:36.305252",
     "status": "completed"
    },
    "tags": []
   },
   "outputs": [
    {
     "data": {
      "text/plain": [
       "<bound method Series.unique of 0       29\n",
       "1       28\n",
       "2       29\n",
       "3       28\n",
       "4       19\n",
       "        ..\n",
       "9874     0\n",
       "9875    20\n",
       "9876    13\n",
       "9877    14\n",
       "9878    21\n",
       "Name: locality_encoded, Length: 9879, dtype: int64>"
      ]
     },
     "execution_count": 44,
     "metadata": {},
     "output_type": "execute_result"
    }
   ],
   "source": [
    "d['locality_encoded']=labelencode_x.fit_transform(d['locality'])\n",
    "\n",
    "d['locality_encoded'].unique"
   ]
  },
  {
   "cell_type": "code",
   "execution_count": 45,
   "id": "08b11061",
   "metadata": {
    "execution": {
     "iopub.execute_input": "2023-10-28T11:43:36.385046Z",
     "iopub.status.busy": "2023-10-28T11:43:36.384580Z",
     "iopub.status.idle": "2023-10-28T11:43:36.397659Z",
     "shell.execute_reply": "2023-10-28T11:43:36.395882Z"
    },
    "papermill": {
     "duration": 0.039482,
     "end_time": "2023-10-28T11:43:36.400811",
     "exception": false,
     "start_time": "2023-10-28T11:43:36.361329",
     "status": "completed"
    },
    "tags": []
   },
   "outputs": [
    {
     "data": {
      "text/plain": [
       "<bound method Series.unique of 0       4\n",
       "1       2\n",
       "2       4\n",
       "3       4\n",
       "4       3\n",
       "       ..\n",
       "9874    2\n",
       "9875    4\n",
       "9876    4\n",
       "9877    0\n",
       "9878    4\n",
       "Name: type_encoded, Length: 9879, dtype: int64>"
      ]
     },
     "execution_count": 45,
     "metadata": {},
     "output_type": "execute_result"
    }
   ],
   "source": [
    "d['type_encoded']=labelencode_x.fit_transform(d['type'])\n",
    "\n",
    "d['type_encoded'].unique"
   ]
  },
  {
   "cell_type": "code",
   "execution_count": 46,
   "id": "81d4a479",
   "metadata": {
    "execution": {
     "iopub.execute_input": "2023-10-28T11:43:36.444926Z",
     "iopub.status.busy": "2023-10-28T11:43:36.444406Z",
     "iopub.status.idle": "2023-10-28T11:43:36.453849Z",
     "shell.execute_reply": "2023-10-28T11:43:36.452668Z"
    },
    "papermill": {
     "duration": 0.036304,
     "end_time": "2023-10-28T11:43:36.457319",
     "exception": false,
     "start_time": "2023-10-28T11:43:36.421015",
     "status": "completed"
    },
    "tags": []
   },
   "outputs": [],
   "source": [
    "d['menu_count']=d['menu_item'].apply(len)-2"
   ]
  },
  {
   "cell_type": "code",
   "execution_count": 47,
   "id": "a1bdb48f",
   "metadata": {
    "execution": {
     "iopub.execute_input": "2023-10-28T11:43:36.503109Z",
     "iopub.status.busy": "2023-10-28T11:43:36.502729Z",
     "iopub.status.idle": "2023-10-28T11:43:36.516578Z",
     "shell.execute_reply": "2023-10-28T11:43:36.514896Z"
    },
    "papermill": {
     "duration": 0.040261,
     "end_time": "2023-10-28T11:43:36.519818",
     "exception": false,
     "start_time": "2023-10-28T11:43:36.479557",
     "status": "completed"
    },
    "tags": []
   },
   "outputs": [],
   "source": [
    "# getting the unique cuisines present in the dataset.\n",
    "unique_cuisines = set()\n",
    "for cuisines_list in d['cuisines']:\n",
    "    unique_cuisines.update(cuisines_list)\n",
    "\n",
    "# Now unique_cuisines contains all unique cuisine types"
   ]
  },
  {
   "cell_type": "code",
   "execution_count": 48,
   "id": "61b00cd3",
   "metadata": {
    "execution": {
     "iopub.execute_input": "2023-10-28T11:43:36.563491Z",
     "iopub.status.busy": "2023-10-28T11:43:36.563069Z",
     "iopub.status.idle": "2023-10-28T11:43:36.569861Z",
     "shell.execute_reply": "2023-10-28T11:43:36.567881Z"
    },
    "papermill": {
     "duration": 0.031893,
     "end_time": "2023-10-28T11:43:36.572912",
     "exception": false,
     "start_time": "2023-10-28T11:43:36.541019",
     "status": "completed"
    },
    "tags": []
   },
   "outputs": [],
   "source": [
    "# Assign a unique code to each cuisine. You can use a dictionary to map cuisines to codes.\n",
    "cuisine_codes = {cuisine: code for code, cuisine in enumerate(unique_cuisines)}"
   ]
  },
  {
   "cell_type": "code",
   "execution_count": 49,
   "id": "4cae532e",
   "metadata": {
    "execution": {
     "iopub.execute_input": "2023-10-28T11:43:36.615382Z",
     "iopub.status.busy": "2023-10-28T11:43:36.614608Z",
     "iopub.status.idle": "2023-10-28T11:43:36.649196Z",
     "shell.execute_reply": "2023-10-28T11:43:36.647890Z"
    },
    "papermill": {
     "duration": 0.058898,
     "end_time": "2023-10-28T11:43:36.651853",
     "exception": false,
     "start_time": "2023-10-28T11:43:36.592955",
     "status": "completed"
    },
    "tags": []
   },
   "outputs": [],
   "source": [
    "d['cuisine_codes'] = d['cuisines'].apply(lambda x: [cuisine_codes[cuisine] for cuisine in x])"
   ]
  },
  {
   "cell_type": "code",
   "execution_count": 50,
   "id": "ee7f7255",
   "metadata": {
    "execution": {
     "iopub.execute_input": "2023-10-28T11:43:36.697187Z",
     "iopub.status.busy": "2023-10-28T11:43:36.695907Z",
     "iopub.status.idle": "2023-10-28T11:43:36.703529Z",
     "shell.execute_reply": "2023-10-28T11:43:36.702276Z"
    },
    "papermill": {
     "duration": 0.033107,
     "end_time": "2023-10-28T11:43:36.706359",
     "exception": false,
     "start_time": "2023-10-28T11:43:36.673252",
     "status": "completed"
    },
    "tags": []
   },
   "outputs": [],
   "source": [
    "d = d.drop(['restaurant_id','online_order','reservations','location','rest_type','cuisines','reviews_list','menu_item','type','locality'],axis=1)"
   ]
  },
  {
   "cell_type": "code",
   "execution_count": 51,
   "id": "0736c382",
   "metadata": {
    "execution": {
     "iopub.execute_input": "2023-10-28T11:43:36.750478Z",
     "iopub.status.busy": "2023-10-28T11:43:36.749127Z",
     "iopub.status.idle": "2023-10-28T11:43:36.755361Z",
     "shell.execute_reply": "2023-10-28T11:43:36.753888Z"
    },
    "papermill": {
     "duration": 0.031663,
     "end_time": "2023-10-28T11:43:36.758606",
     "exception": false,
     "start_time": "2023-10-28T11:43:36.726943",
     "status": "completed"
    },
    "tags": []
   },
   "outputs": [],
   "source": [
    "xf = d"
   ]
  },
  {
   "cell_type": "code",
   "execution_count": 52,
   "id": "3eb8f3a4",
   "metadata": {
    "execution": {
     "iopub.execute_input": "2023-10-28T11:43:36.805010Z",
     "iopub.status.busy": "2023-10-28T11:43:36.803127Z",
     "iopub.status.idle": "2023-10-28T11:43:36.825699Z",
     "shell.execute_reply": "2023-10-28T11:43:36.823952Z"
    },
    "papermill": {
     "duration": 0.047793,
     "end_time": "2023-10-28T11:43:36.828081",
     "exception": false,
     "start_time": "2023-10-28T11:43:36.780288",
     "status": "completed"
    },
    "tags": []
   },
   "outputs": [
    {
     "data": {
      "text/html": [
       "<div>\n",
       "<style scoped>\n",
       "    .dataframe tbody tr th:only-of-type {\n",
       "        vertical-align: middle;\n",
       "    }\n",
       "\n",
       "    .dataframe tbody tr th {\n",
       "        vertical-align: top;\n",
       "    }\n",
       "\n",
       "    .dataframe thead th {\n",
       "        text-align: right;\n",
       "    }\n",
       "</style>\n",
       "<table border=\"1\" class=\"dataframe\">\n",
       "  <thead>\n",
       "    <tr style=\"text-align: right;\">\n",
       "      <th></th>\n",
       "      <th>rating</th>\n",
       "      <th>votes</th>\n",
       "      <th>online_order_encoded</th>\n",
       "      <th>reservations_encoded</th>\n",
       "      <th>locality_encoded</th>\n",
       "      <th>type_encoded</th>\n",
       "      <th>menu_count</th>\n",
       "      <th>cuisine_codes</th>\n",
       "    </tr>\n",
       "  </thead>\n",
       "  <tbody>\n",
       "    <tr>\n",
       "      <th>0</th>\n",
       "      <td>3.9</td>\n",
       "      <td>0</td>\n",
       "      <td>0</td>\n",
       "      <td>0</td>\n",
       "      <td>29</td>\n",
       "      <td>4</td>\n",
       "      <td>0</td>\n",
       "      <td>[2, 1, 26, 22, 19, 48, 32, 47, 6, 46, 7, 47]</td>\n",
       "    </tr>\n",
       "    <tr>\n",
       "      <th>1</th>\n",
       "      <td>3.3</td>\n",
       "      <td>120</td>\n",
       "      <td>1</td>\n",
       "      <td>0</td>\n",
       "      <td>28</td>\n",
       "      <td>2</td>\n",
       "      <td>0</td>\n",
       "      <td>[0, 1, 47, 22, 46, 47, 4, 47, 22, 7, 35, 38, 4...</td>\n",
       "    </tr>\n",
       "    <tr>\n",
       "      <th>2</th>\n",
       "      <td>4.2</td>\n",
       "      <td>843</td>\n",
       "      <td>0</td>\n",
       "      <td>0</td>\n",
       "      <td>29</td>\n",
       "      <td>4</td>\n",
       "      <td>0</td>\n",
       "      <td>[0, 7, 28, 4, 38, 48, 32, 22, 7, 35, 46, 7, 47...</td>\n",
       "    </tr>\n",
       "    <tr>\n",
       "      <th>3</th>\n",
       "      <td>3.0</td>\n",
       "      <td>24</td>\n",
       "      <td>0</td>\n",
       "      <td>0</td>\n",
       "      <td>28</td>\n",
       "      <td>4</td>\n",
       "      <td>0</td>\n",
       "      <td>[49, 46, 26, 16, 7, 47, 46, 38, 48, 2, 1, 26, ...</td>\n",
       "    </tr>\n",
       "    <tr>\n",
       "      <th>4</th>\n",
       "      <td>3.9</td>\n",
       "      <td>0</td>\n",
       "      <td>0</td>\n",
       "      <td>0</td>\n",
       "      <td>19</td>\n",
       "      <td>3</td>\n",
       "      <td>0</td>\n",
       "      <td>[49, 7, 36, 4, 26, 16, 38, 48, 49, 4, 17, 4, 2...</td>\n",
       "    </tr>\n",
       "    <tr>\n",
       "      <th>...</th>\n",
       "      <td>...</td>\n",
       "      <td>...</td>\n",
       "      <td>...</td>\n",
       "      <td>...</td>\n",
       "      <td>...</td>\n",
       "      <td>...</td>\n",
       "      <td>...</td>\n",
       "      <td>...</td>\n",
       "    </tr>\n",
       "    <tr>\n",
       "      <th>9874</th>\n",
       "      <td>3.7</td>\n",
       "      <td>25</td>\n",
       "      <td>1</td>\n",
       "      <td>0</td>\n",
       "      <td>0</td>\n",
       "      <td>2</td>\n",
       "      <td>0</td>\n",
       "      <td>[49, 7, 36, 4, 26, 16]</td>\n",
       "    </tr>\n",
       "    <tr>\n",
       "      <th>9875</th>\n",
       "      <td>4.2</td>\n",
       "      <td>1770</td>\n",
       "      <td>1</td>\n",
       "      <td>0</td>\n",
       "      <td>20</td>\n",
       "      <td>4</td>\n",
       "      <td>1815</td>\n",
       "      <td>[0, 1, 47, 22, 46, 47, 4, 47, 22, 7, 35, 38, 4...</td>\n",
       "    </tr>\n",
       "    <tr>\n",
       "      <th>9876</th>\n",
       "      <td>3.9</td>\n",
       "      <td>4</td>\n",
       "      <td>0</td>\n",
       "      <td>0</td>\n",
       "      <td>13</td>\n",
       "      <td>4</td>\n",
       "      <td>0</td>\n",
       "      <td>[3, 4, 40, 7, 40]</td>\n",
       "    </tr>\n",
       "    <tr>\n",
       "      <th>9877</th>\n",
       "      <td>3.8</td>\n",
       "      <td>311</td>\n",
       "      <td>1</td>\n",
       "      <td>0</td>\n",
       "      <td>14</td>\n",
       "      <td>0</td>\n",
       "      <td>0</td>\n",
       "      <td>[0, 1, 47, 22, 46, 47, 4, 47, 22, 7, 35, 38, 4...</td>\n",
       "    </tr>\n",
       "    <tr>\n",
       "      <th>9878</th>\n",
       "      <td>4.1</td>\n",
       "      <td>364</td>\n",
       "      <td>0</td>\n",
       "      <td>0</td>\n",
       "      <td>21</td>\n",
       "      <td>4</td>\n",
       "      <td>0</td>\n",
       "      <td>[2, 1, 26, 22, 19, 48, 32, 47, 6, 46, 7, 47, 3...</td>\n",
       "    </tr>\n",
       "  </tbody>\n",
       "</table>\n",
       "<p>9879 rows × 8 columns</p>\n",
       "</div>"
      ],
      "text/plain": [
       "      rating  votes  online_order_encoded  reservations_encoded  \\\n",
       "0        3.9      0                     0                     0   \n",
       "1        3.3    120                     1                     0   \n",
       "2        4.2    843                     0                     0   \n",
       "3        3.0     24                     0                     0   \n",
       "4        3.9      0                     0                     0   \n",
       "...      ...    ...                   ...                   ...   \n",
       "9874     3.7     25                     1                     0   \n",
       "9875     4.2   1770                     1                     0   \n",
       "9876     3.9      4                     0                     0   \n",
       "9877     3.8    311                     1                     0   \n",
       "9878     4.1    364                     0                     0   \n",
       "\n",
       "      locality_encoded  type_encoded  menu_count  \\\n",
       "0                   29             4           0   \n",
       "1                   28             2           0   \n",
       "2                   29             4           0   \n",
       "3                   28             4           0   \n",
       "4                   19             3           0   \n",
       "...                ...           ...         ...   \n",
       "9874                 0             2           0   \n",
       "9875                20             4        1815   \n",
       "9876                13             4           0   \n",
       "9877                14             0           0   \n",
       "9878                21             4           0   \n",
       "\n",
       "                                          cuisine_codes  \n",
       "0          [2, 1, 26, 22, 19, 48, 32, 47, 6, 46, 7, 47]  \n",
       "1     [0, 1, 47, 22, 46, 47, 4, 47, 22, 7, 35, 38, 4...  \n",
       "2     [0, 7, 28, 4, 38, 48, 32, 22, 7, 35, 46, 7, 47...  \n",
       "3     [49, 46, 26, 16, 7, 47, 46, 38, 48, 2, 1, 26, ...  \n",
       "4     [49, 7, 36, 4, 26, 16, 38, 48, 49, 4, 17, 4, 2...  \n",
       "...                                                 ...  \n",
       "9874                             [49, 7, 36, 4, 26, 16]  \n",
       "9875  [0, 1, 47, 22, 46, 47, 4, 47, 22, 7, 35, 38, 4...  \n",
       "9876                                  [3, 4, 40, 7, 40]  \n",
       "9877  [0, 1, 47, 22, 46, 47, 4, 47, 22, 7, 35, 38, 4...  \n",
       "9878  [2, 1, 26, 22, 19, 48, 32, 47, 6, 46, 7, 47, 3...  \n",
       "\n",
       "[9879 rows x 8 columns]"
      ]
     },
     "execution_count": 52,
     "metadata": {},
     "output_type": "execute_result"
    }
   ],
   "source": [
    "d"
   ]
  },
  {
   "cell_type": "code",
   "execution_count": 53,
   "id": "53313d4d",
   "metadata": {
    "execution": {
     "iopub.execute_input": "2023-10-28T11:43:36.872560Z",
     "iopub.status.busy": "2023-10-28T11:43:36.871208Z",
     "iopub.status.idle": "2023-10-28T11:43:36.999913Z",
     "shell.execute_reply": "2023-10-28T11:43:36.997866Z"
    },
    "papermill": {
     "duration": 0.154104,
     "end_time": "2023-10-28T11:43:37.003428",
     "exception": false,
     "start_time": "2023-10-28T11:43:36.849324",
     "status": "completed"
    },
    "tags": []
   },
   "outputs": [],
   "source": [
    "from sklearn.preprocessing import MinMaxScaler\n",
    "import pandas as pd\n",
    "\n",
    "# Assuming 'cuisine_codes' is the column you want to standardize\n",
    "cuisine_codes = d['cuisine_codes'].tolist()\n",
    "\n",
    "# Reshape the data to fit the MinMaxScaler\n",
    "cuisine_codes_array = [item for sublist in cuisine_codes for item in sublist]\n",
    "cuisine_codes_array = pd.Series(cuisine_codes_array).values.reshape(-1, 1)\n",
    "\n",
    "# Initialize the scaler\n",
    "scaler = MinMaxScaler()\n",
    "\n",
    "# Fit and transform the data\n",
    "cuisine_codes_scaled = scaler.fit_transform(cuisine_codes_array)\n",
    "\n",
    "# Replace the original 'cuisine_codes' column with the scaled values\n",
    "d['cuisine_codes'] = d['cuisine_codes'].apply(lambda x: [cuisine_codes_scaled[i][0] for i in range(len(x))])"
   ]
  },
  {
   "cell_type": "code",
   "execution_count": 54,
   "id": "642123b2",
   "metadata": {
    "execution": {
     "iopub.execute_input": "2023-10-28T11:43:37.047536Z",
     "iopub.status.busy": "2023-10-28T11:43:37.047108Z",
     "iopub.status.idle": "2023-10-28T11:43:37.074427Z",
     "shell.execute_reply": "2023-10-28T11:43:37.072834Z"
    },
    "papermill": {
     "duration": 0.053181,
     "end_time": "2023-10-28T11:43:37.077655",
     "exception": false,
     "start_time": "2023-10-28T11:43:37.024474",
     "status": "completed"
    },
    "tags": []
   },
   "outputs": [],
   "source": [
    "d['cuisine_codes_mean'] = d['cuisine_codes'].apply(lambda x: sum(x)/len(x))\n",
    "d=d.drop(['cuisine_codes'],axis=1)"
   ]
  },
  {
   "cell_type": "code",
   "execution_count": 55,
   "id": "94332519",
   "metadata": {
    "execution": {
     "iopub.execute_input": "2023-10-28T11:43:37.121555Z",
     "iopub.status.busy": "2023-10-28T11:43:37.121076Z",
     "iopub.status.idle": "2023-10-28T11:43:37.137312Z",
     "shell.execute_reply": "2023-10-28T11:43:37.135896Z"
    },
    "papermill": {
     "duration": 0.04228,
     "end_time": "2023-10-28T11:43:37.140603",
     "exception": false,
     "start_time": "2023-10-28T11:43:37.098323",
     "status": "completed"
    },
    "tags": []
   },
   "outputs": [
    {
     "data": {
      "text/html": [
       "<div>\n",
       "<style scoped>\n",
       "    .dataframe tbody tr th:only-of-type {\n",
       "        vertical-align: middle;\n",
       "    }\n",
       "\n",
       "    .dataframe tbody tr th {\n",
       "        vertical-align: top;\n",
       "    }\n",
       "\n",
       "    .dataframe thead th {\n",
       "        text-align: right;\n",
       "    }\n",
       "</style>\n",
       "<table border=\"1\" class=\"dataframe\">\n",
       "  <thead>\n",
       "    <tr style=\"text-align: right;\">\n",
       "      <th></th>\n",
       "      <th>rating</th>\n",
       "      <th>votes</th>\n",
       "      <th>online_order_encoded</th>\n",
       "      <th>reservations_encoded</th>\n",
       "      <th>locality_encoded</th>\n",
       "      <th>type_encoded</th>\n",
       "      <th>menu_count</th>\n",
       "      <th>cuisine_codes_mean</th>\n",
       "    </tr>\n",
       "  </thead>\n",
       "  <tbody>\n",
       "    <tr>\n",
       "      <th>0</th>\n",
       "      <td>3.9</td>\n",
       "      <td>0</td>\n",
       "      <td>0</td>\n",
       "      <td>0</td>\n",
       "      <td>29</td>\n",
       "      <td>4</td>\n",
       "      <td>0</td>\n",
       "      <td>0.515306</td>\n",
       "    </tr>\n",
       "    <tr>\n",
       "      <th>1</th>\n",
       "      <td>3.3</td>\n",
       "      <td>120</td>\n",
       "      <td>1</td>\n",
       "      <td>0</td>\n",
       "      <td>28</td>\n",
       "      <td>2</td>\n",
       "      <td>0</td>\n",
       "      <td>0.559076</td>\n",
       "    </tr>\n",
       "    <tr>\n",
       "      <th>2</th>\n",
       "      <td>4.2</td>\n",
       "      <td>843</td>\n",
       "      <td>0</td>\n",
       "      <td>0</td>\n",
       "      <td>29</td>\n",
       "      <td>4</td>\n",
       "      <td>0</td>\n",
       "      <td>0.541601</td>\n",
       "    </tr>\n",
       "    <tr>\n",
       "      <th>3</th>\n",
       "      <td>3.0</td>\n",
       "      <td>24</td>\n",
       "      <td>0</td>\n",
       "      <td>0</td>\n",
       "      <td>28</td>\n",
       "      <td>4</td>\n",
       "      <td>0</td>\n",
       "      <td>0.540816</td>\n",
       "    </tr>\n",
       "    <tr>\n",
       "      <th>4</th>\n",
       "      <td>3.9</td>\n",
       "      <td>0</td>\n",
       "      <td>0</td>\n",
       "      <td>0</td>\n",
       "      <td>19</td>\n",
       "      <td>3</td>\n",
       "      <td>0</td>\n",
       "      <td>0.503001</td>\n",
       "    </tr>\n",
       "  </tbody>\n",
       "</table>\n",
       "</div>"
      ],
      "text/plain": [
       "   rating  votes  online_order_encoded  reservations_encoded  \\\n",
       "0     3.9      0                     0                     0   \n",
       "1     3.3    120                     1                     0   \n",
       "2     4.2    843                     0                     0   \n",
       "3     3.0     24                     0                     0   \n",
       "4     3.9      0                     0                     0   \n",
       "\n",
       "   locality_encoded  type_encoded  menu_count  cuisine_codes_mean  \n",
       "0                29             4           0            0.515306  \n",
       "1                28             2           0            0.559076  \n",
       "2                29             4           0            0.541601  \n",
       "3                28             4           0            0.540816  \n",
       "4                19             3           0            0.503001  "
      ]
     },
     "execution_count": 55,
     "metadata": {},
     "output_type": "execute_result"
    }
   ],
   "source": [
    "d.head()"
   ]
  },
  {
   "cell_type": "code",
   "execution_count": 56,
   "id": "4c733fd6",
   "metadata": {
    "execution": {
     "iopub.execute_input": "2023-10-28T11:43:37.184037Z",
     "iopub.status.busy": "2023-10-28T11:43:37.183611Z",
     "iopub.status.idle": "2023-10-28T11:43:37.189883Z",
     "shell.execute_reply": "2023-10-28T11:43:37.188222Z"
    },
    "papermill": {
     "duration": 0.030987,
     "end_time": "2023-10-28T11:43:37.192617",
     "exception": false,
     "start_time": "2023-10-28T11:43:37.161630",
     "status": "completed"
    },
    "tags": []
   },
   "outputs": [],
   "source": [
    "xf = d"
   ]
  },
  {
   "cell_type": "code",
   "execution_count": 57,
   "id": "57e82e34",
   "metadata": {
    "execution": {
     "iopub.execute_input": "2023-10-28T11:43:37.237839Z",
     "iopub.status.busy": "2023-10-28T11:43:37.237423Z",
     "iopub.status.idle": "2023-10-28T11:43:45.679894Z",
     "shell.execute_reply": "2023-10-28T11:43:45.677944Z"
    },
    "papermill": {
     "duration": 8.46828,
     "end_time": "2023-10-28T11:43:45.682219",
     "exception": false,
     "start_time": "2023-10-28T11:43:37.213939",
     "status": "completed"
    },
    "tags": []
   },
   "outputs": [
    {
     "name": "stderr",
     "output_type": "stream",
     "text": [
      "/opt/conda/lib/python3.10/site-packages/sklearn/base.py:432: UserWarning: X has feature names, but RandomForestRegressor was fitted without feature names\n",
      "  warnings.warn(\n"
     ]
    }
   ],
   "source": [
    "# Fitting the model\n",
    "rf_reg.fit(train_x,train_y)\n",
    "# Predicting the cost\n",
    "cost_pre = rf_reg.predict(xf)"
   ]
  },
  {
   "cell_type": "code",
   "execution_count": 58,
   "id": "fbd0f11b",
   "metadata": {
    "execution": {
     "iopub.execute_input": "2023-10-28T11:43:45.726712Z",
     "iopub.status.busy": "2023-10-28T11:43:45.726254Z",
     "iopub.status.idle": "2023-10-28T11:43:46.698551Z",
     "shell.execute_reply": "2023-10-28T11:43:46.696418Z"
    },
    "papermill": {
     "duration": 0.998771,
     "end_time": "2023-10-28T11:43:46.701698",
     "exception": false,
     "start_time": "2023-10-28T11:43:45.702927",
     "status": "completed"
    },
    "tags": []
   },
   "outputs": [],
   "source": [
    "test_data=pd.read_csv('/kaggle/input/epoch-23/test.csv')"
   ]
  },
  {
   "cell_type": "code",
   "execution_count": 59,
   "id": "6a94af7d",
   "metadata": {
    "execution": {
     "iopub.execute_input": "2023-10-28T11:43:46.746585Z",
     "iopub.status.busy": "2023-10-28T11:43:46.746151Z",
     "iopub.status.idle": "2023-10-28T11:43:46.753766Z",
     "shell.execute_reply": "2023-10-28T11:43:46.752133Z"
    },
    "papermill": {
     "duration": 0.034076,
     "end_time": "2023-10-28T11:43:46.757051",
     "exception": false,
     "start_time": "2023-10-28T11:43:46.722975",
     "status": "completed"
    },
    "tags": []
   },
   "outputs": [],
   "source": [
    "# Getting submission file\n",
    "submission = pd.DataFrame(test_data['restaurant_id'])\n",
    "submission['cost'] = cost_pre"
   ]
  },
  {
   "cell_type": "code",
   "execution_count": 60,
   "id": "e82029f1",
   "metadata": {
    "execution": {
     "iopub.execute_input": "2023-10-28T11:43:46.802127Z",
     "iopub.status.busy": "2023-10-28T11:43:46.801639Z",
     "iopub.status.idle": "2023-10-28T11:43:46.811399Z",
     "shell.execute_reply": "2023-10-28T11:43:46.809671Z"
    },
    "papermill": {
     "duration": 0.035768,
     "end_time": "2023-10-28T11:43:46.814435",
     "exception": false,
     "start_time": "2023-10-28T11:43:46.778667",
     "status": "completed"
    },
    "tags": []
   },
   "outputs": [],
   "source": [
    "submission['cost'] = submission['cost'].apply(lambda x: x / 1000 if x >=1000 else x)"
   ]
  },
  {
   "cell_type": "code",
   "execution_count": 61,
   "id": "2d322d41",
   "metadata": {
    "execution": {
     "iopub.execute_input": "2023-10-28T11:43:46.858787Z",
     "iopub.status.busy": "2023-10-28T11:43:46.858402Z",
     "iopub.status.idle": "2023-10-28T11:43:46.870486Z",
     "shell.execute_reply": "2023-10-28T11:43:46.868649Z"
    },
    "papermill": {
     "duration": 0.037978,
     "end_time": "2023-10-28T11:43:46.873930",
     "exception": false,
     "start_time": "2023-10-28T11:43:46.835952",
     "status": "completed"
    },
    "tags": []
   },
   "outputs": [
    {
     "data": {
      "text/html": [
       "<div>\n",
       "<style scoped>\n",
       "    .dataframe tbody tr th:only-of-type {\n",
       "        vertical-align: middle;\n",
       "    }\n",
       "\n",
       "    .dataframe tbody tr th {\n",
       "        vertical-align: top;\n",
       "    }\n",
       "\n",
       "    .dataframe thead th {\n",
       "        text-align: right;\n",
       "    }\n",
       "</style>\n",
       "<table border=\"1\" class=\"dataframe\">\n",
       "  <thead>\n",
       "    <tr style=\"text-align: right;\">\n",
       "      <th></th>\n",
       "      <th>restaurant_id</th>\n",
       "      <th>cost</th>\n",
       "    </tr>\n",
       "  </thead>\n",
       "  <tbody>\n",
       "    <tr>\n",
       "      <th>0</th>\n",
       "      <td>aa540e8f-055d-4fd4-8127-efe6c1f5e8e7</td>\n",
       "      <td>1.21875</td>\n",
       "    </tr>\n",
       "    <tr>\n",
       "      <th>1</th>\n",
       "      <td>ed6c18ab-3a15-41a5-bde7-264254cc1ef4</td>\n",
       "      <td>2.01450</td>\n",
       "    </tr>\n",
       "    <tr>\n",
       "      <th>2</th>\n",
       "      <td>4e60f1e4-b4ca-4bc1-8540-006f349f65dc</td>\n",
       "      <td>2.13700</td>\n",
       "    </tr>\n",
       "    <tr>\n",
       "      <th>3</th>\n",
       "      <td>fcf28310-1e85-48fd-9ec4-0613c7572983</td>\n",
       "      <td>2.13700</td>\n",
       "    </tr>\n",
       "    <tr>\n",
       "      <th>4</th>\n",
       "      <td>3c9a06c8-3117-48f2-b0c9-f677923f6d89</td>\n",
       "      <td>1.21875</td>\n",
       "    </tr>\n",
       "    <tr>\n",
       "      <th>...</th>\n",
       "      <td>...</td>\n",
       "      <td>...</td>\n",
       "    </tr>\n",
       "    <tr>\n",
       "      <th>9874</th>\n",
       "      <td>1a827b27-57ca-494f-a630-6340bb9fc99b</td>\n",
       "      <td>1.65950</td>\n",
       "    </tr>\n",
       "    <tr>\n",
       "      <th>9875</th>\n",
       "      <td>ed3f7036-da33-47d4-bf40-53759473ef3f</td>\n",
       "      <td>2.01750</td>\n",
       "    </tr>\n",
       "    <tr>\n",
       "      <th>9876</th>\n",
       "      <td>3a93c459-2c2b-4e85-a002-496d02874360</td>\n",
       "      <td>2.13950</td>\n",
       "    </tr>\n",
       "    <tr>\n",
       "      <th>9877</th>\n",
       "      <td>4a7776bb-2036-4056-ac44-1114236a9521</td>\n",
       "      <td>1.20050</td>\n",
       "    </tr>\n",
       "    <tr>\n",
       "      <th>9878</th>\n",
       "      <td>7691c5c4-bf7d-43e8-9e50-bc977000cd92</td>\n",
       "      <td>2.15000</td>\n",
       "    </tr>\n",
       "  </tbody>\n",
       "</table>\n",
       "<p>9879 rows × 2 columns</p>\n",
       "</div>"
      ],
      "text/plain": [
       "                             restaurant_id     cost\n",
       "0     aa540e8f-055d-4fd4-8127-efe6c1f5e8e7  1.21875\n",
       "1     ed6c18ab-3a15-41a5-bde7-264254cc1ef4  2.01450\n",
       "2     4e60f1e4-b4ca-4bc1-8540-006f349f65dc  2.13700\n",
       "3     fcf28310-1e85-48fd-9ec4-0613c7572983  2.13700\n",
       "4     3c9a06c8-3117-48f2-b0c9-f677923f6d89  1.21875\n",
       "...                                    ...      ...\n",
       "9874  1a827b27-57ca-494f-a630-6340bb9fc99b  1.65950\n",
       "9875  ed3f7036-da33-47d4-bf40-53759473ef3f  2.01750\n",
       "9876  3a93c459-2c2b-4e85-a002-496d02874360  2.13950\n",
       "9877  4a7776bb-2036-4056-ac44-1114236a9521  1.20050\n",
       "9878  7691c5c4-bf7d-43e8-9e50-bc977000cd92  2.15000\n",
       "\n",
       "[9879 rows x 2 columns]"
      ]
     },
     "execution_count": 61,
     "metadata": {},
     "output_type": "execute_result"
    }
   ],
   "source": [
    "submission"
   ]
  },
  {
   "cell_type": "code",
   "execution_count": 62,
   "id": "d6a737ad",
   "metadata": {
    "execution": {
     "iopub.execute_input": "2023-10-28T11:43:46.919185Z",
     "iopub.status.busy": "2023-10-28T11:43:46.918762Z",
     "iopub.status.idle": "2023-10-28T11:43:46.948018Z",
     "shell.execute_reply": "2023-10-28T11:43:46.945970Z"
    },
    "papermill": {
     "duration": 0.055966,
     "end_time": "2023-10-28T11:43:46.951719",
     "exception": false,
     "start_time": "2023-10-28T11:43:46.895753",
     "status": "completed"
    },
    "tags": []
   },
   "outputs": [],
   "source": [
    "submission.to_csv(\"/kaggle/working/submission.csv\",index=False)"
   ]
  },
  {
   "cell_type": "code",
   "execution_count": null,
   "id": "7bb6373b",
   "metadata": {
    "papermill": {
     "duration": 0.023722,
     "end_time": "2023-10-28T11:43:46.998035",
     "exception": false,
     "start_time": "2023-10-28T11:43:46.974313",
     "status": "completed"
    },
    "tags": []
   },
   "outputs": [],
   "source": []
  },
  {
   "cell_type": "code",
   "execution_count": null,
   "id": "9e555ce1",
   "metadata": {
    "papermill": {
     "duration": 0.020627,
     "end_time": "2023-10-28T11:43:47.040084",
     "exception": false,
     "start_time": "2023-10-28T11:43:47.019457",
     "status": "completed"
    },
    "tags": []
   },
   "outputs": [],
   "source": []
  }
 ],
 "metadata": {
  "kernelspec": {
   "display_name": "Python 3",
   "language": "python",
   "name": "python3"
  },
  "language_info": {
   "codemirror_mode": {
    "name": "ipython",
    "version": 3
   },
   "file_extension": ".py",
   "mimetype": "text/x-python",
   "name": "python",
   "nbconvert_exporter": "python",
   "pygments_lexer": "ipython3",
   "version": "3.10.12"
  },
  "papermill": {
   "default_parameters": {},
   "duration": 398.478522,
   "end_time": "2023-10-28T11:43:47.892057",
   "environment_variables": {},
   "exception": null,
   "input_path": "__notebook__.ipynb",
   "output_path": "__notebook__.ipynb",
   "parameters": {},
   "start_time": "2023-10-28T11:37:09.413535",
   "version": "2.4.0"
  }
 },
 "nbformat": 4,
 "nbformat_minor": 5
}
